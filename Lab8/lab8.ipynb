{
 "cells": [
  {
   "cell_type": "code",
   "execution_count": 27,
   "metadata": {
    "collapsed": false
   },
   "outputs": [
    {
     "name": "stdout",
     "output_type": "stream",
     "text": [
      "0.942145734163\n"
     ]
    }
   ],
   "source": [
    "import pandas as pd\n",
    "import numpy as np\n",
    "import matplotlib.pyplot as plt\n",
    "from sklearn.linear_model import LogisticRegression\n",
    "from sklearn.cross_validation import train_test_split\n",
    "\n",
    "train = pd.read_csv('/Users/anthonydepalatis/Documents/Workspace/school/EE379K/Lab8/data/train_1.csv')\n",
    "train_features = train.drop(['ACTION', 'MGR_ID', 'ROLE_FAMILY_DESC'], axis=1)\n",
    "train_labels = train['ACTION']\n",
    "\n",
    "# Split the data into training and testing sets for cross-validation.\n",
    "x_train, x_test, y_train, y_test = train_test_split(train_features, train_labels)\n",
    "\n",
    "# Create and fit the Logistic Regression model.\n",
    "log_reg = LogisticRegression()\n",
    "log_reg.fit(x_train, y_train)\n",
    "\n",
    "# Calculate training error.\n",
    "preds = log_reg.predict(x_test)\n",
    "print log_reg.score(x_test, y_test)\n",
    "for x in preds:\n",
    "    if x != 1:\n",
    "        print x\n",
    "\n",
    "# Make predictions on the test set and save to submission csv.\n",
    "test = pd.read_csv('/Users/anthonydepalatis/Documents/Workspace/school/EE379K/Lab8/data/test_1.csv')\n",
    "test_preds = log_reg.predict(test.drop(['id', 'MGR_ID', 'ROLE_FAMILY_DESC'], axis=1))\n",
    "submission = pd.DataFrame({\"Id\":test.id, \"Action\":test_preds})\n",
    "submission.to_csv('/Users/anthonydepalatis/Documents/Workspace/school/EE379K/Lab8/data/submission.csv')"
   ]
  },
  {
   "cell_type": "code",
   "execution_count": null,
   "metadata": {
    "collapsed": true
   },
   "outputs": [],
   "source": []
  }
 ],
 "metadata": {
  "kernelspec": {
   "display_name": "Python 2",
   "language": "python",
   "name": "python2"
  },
  "language_info": {
   "codemirror_mode": {
    "name": "ipython",
    "version": 2
   },
   "file_extension": ".py",
   "mimetype": "text/x-python",
   "name": "python",
   "nbconvert_exporter": "python",
   "pygments_lexer": "ipython2",
   "version": "2.7.13"
  }
 },
 "nbformat": 4,
 "nbformat_minor": 2
}
