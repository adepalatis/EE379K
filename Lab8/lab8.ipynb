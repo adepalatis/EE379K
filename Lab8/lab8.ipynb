{
 "cells": [
  {
   "cell_type": "code",
   "execution_count": 176,
   "metadata": {
    "collapsed": false
   },
   "outputs": [],
   "source": [
    "import pandas as pd\n",
    "import numpy as np\n",
    "import matplotlib.pyplot as plt\n",
    "from sklearn.linear_model import LogisticRegression\n",
    "from sklearn.cross_validation import train_test_split\n",
    "from sklearn.preprocessing import OneHotEncoder"
   ]
  },
  {
   "cell_type": "code",
   "execution_count": 180,
   "metadata": {
    "collapsed": false
   },
   "outputs": [
    {
     "name": "stdout",
     "output_type": "stream",
     "text": [
      "0.944098620774\n"
     ]
    }
   ],
   "source": [
    "train = pd.read_csv('/Users/anthonydepalatis/Documents/Workspace/school/EE379K/Lab8/data/train.csv')\n",
    "test = pd.read_csv('/Users/anthonydepalatis/Documents/Workspace/school/EE379K/Lab8/data/test.csv')\n",
    "\n",
    "train_features = train.drop(['ACTION', 'MGR_ID'], axis=1)\n",
    "train_labels = train['ACTION']\n",
    "\n",
    "# Fit the OneHotEncoder to the training data.\n",
    "enc = OneHotEncoder()\n",
    "enc.fit(train_features)\n",
    "\n",
    "# Encode the training data.\n",
    "train_feats_encoded = enc.transform(train_features)\n",
    "\n",
    "# Split the training data into training and testing sets for cross-validation.\n",
    "x_train, x_test, y_train, y_test = train_test_split(train_feats_encoded, train_labels)\n",
    "\n",
    "# Create and fit the Logistic Regression model.\n",
    "log_reg = LogisticRegression()\n",
    "log_reg.fit(x_train, y_train)\n",
    "\n",
    "# Calculate training error.\n",
    "preds = log_reg.predict(x_test)\n",
    "print log_reg.score(x_test, y_test)\n",
    "\n",
    "# Make predictions on the test set and save to submission csv.\n",
    "test_encoded = enc.transform(test.drop(['id', 'MGR_ID'], axis=1))\n",
    "test_preds = log_reg.predict(test_encoded)\n",
    "submission = pd.DataFrame({\"Id\":test.id, \"Action\":test_preds})\n",
    "submission.to_csv('/Users/anthonydepalatis/Documents/Workspace/school/EE379K/Lab8/data/submission.csv', index=False)"
   ]
  },
  {
   "cell_type": "code",
   "execution_count": null,
   "metadata": {
    "collapsed": true
   },
   "outputs": [],
   "source": []
  }
 ],
 "metadata": {
  "kernelspec": {
   "display_name": "Python 2",
   "language": "python",
   "name": "python2"
  },
  "language_info": {
   "codemirror_mode": {
    "name": "ipython",
    "version": 2
   },
   "file_extension": ".py",
   "mimetype": "text/x-python",
   "name": "python",
   "nbconvert_exporter": "python",
   "pygments_lexer": "ipython2",
   "version": "2.7.13"
  }
 },
 "nbformat": 4,
 "nbformat_minor": 2
}
