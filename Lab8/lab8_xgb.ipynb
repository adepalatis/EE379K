{
 "cells": [
  {
   "cell_type": "code",
   "execution_count": 12,
   "metadata": {
    "collapsed": true
   },
   "outputs": [],
   "source": [
    "import pandas as pd\n",
    "import numpy as np\n",
    "import matplotlib.pyplot as plt\n",
    "from sklearn.linear_model import LogisticRegression\n",
    "from sklearn.cross_validation import train_test_split\n",
    "from sklearn.preprocessing import OneHotEncoder\n",
    "import xgboost as xgb\n",
    "\n",
    "SEED = 42"
   ]
  },
  {
   "cell_type": "code",
   "execution_count": 13,
   "metadata": {
    "collapsed": true
   },
   "outputs": [],
   "source": [
    "''' Fits a OneHotEncoder to a concatenation of the given data and returns the encoded data. '''\n",
    "def encode_all_data(train, test):\n",
    "    # Fit the OneHotEncoder to the training and testing data.\n",
    "    enc = OneHotEncoder()\n",
    "    enc.fit(train.append(test))\n",
    "\n",
    "    # Encode the data.\n",
    "    train_feats_encoded = enc.transform(train)\n",
    "    test_encoded = enc.transform(test)\n",
    "    \n",
    "    return train_feats_encoded, test_encoded"
   ]
  },
  {
   "cell_type": "code",
   "execution_count": 14,
   "metadata": {
    "collapsed": false
   },
   "outputs": [
    {
     "name": "stdout",
     "output_type": "stream",
     "text": [
      "0.946963686298 0.949664327128\n"
     ]
    }
   ],
   "source": [
    "train = pd.read_csv('/Users/shammakabir/EE379K/Lab8/data/train.csv')\n",
    "test = pd.read_csv('/Users/shammakabir/EE379K/Lab8/data/test.csv')\n",
    "train_features = train.drop(['ACTION', 'ROLE_ROLLUP_1', 'ROLE_ROLLUP_2'], axis=1)\n",
    "train_labels = train['ACTION']\n",
    "test_trimmed = test.drop(['id', 'ROLE_ROLLUP_1', 'ROLE_ROLLUP_2'], axis=1)\n",
    "\n",
    "train_feats_encoded, test_encoded = encode_all_data(train_features, test_trimmed)\n",
    "\n",
    "# Perform cross validation procedure 10 times, holding out 20% of training data as the CV set.\n",
    "mean_err = 0.\n",
    "mean_err_xgb = 0.\n",
    "for k in range(10):\n",
    "    # Split the training data into training and testing sets for cross-validation.\n",
    "    x_train, x_cv, y_train, y_cv = train_test_split(train_feats_encoded, train_labels, test_size=0.2, random_state=k*SEED)\n",
    "\n",
    "    # Create and fit the Logistic Regression model.\n",
    "    log_reg = LogisticRegression()\n",
    "    log_reg.fit(x_train, y_train)\n",
    "    \n",
    "    #create and fit XGB model\n",
    "    xgb_model = xgb.XGBClassifier(max_depth=10, n_estimators=1000, learning_rate=0.15, objective='binary:logistic').fit(x_train, y_train)\n",
    "    # Calculate training error.\n",
    "    preds = log_reg.predict(x_cv)\n",
    "    #preds = log_reg.predict_proba(x_cv)[:,1]\n",
    "    \n",
    "    \n",
    "    preds_xgb = xgb_model.predict(x_cv)\n",
    "    #preds = xgb_model.predict_proba(x_cv)[:,1]\n",
    "\n",
    "    fold_err = log_reg.score(x_cv, y_cv)\n",
    "    fold_err_xgb = xgb_model.score(x_cv, y_cv)\n",
    "    \n",
    "    mean_err += fold_err\n",
    "    mean_err_xgb += fold_err_xgb\n",
    "    \n",
    "mean_err /= 10\n",
    "mean_err_xgb /= 10\n",
    "print mean_err, mean_err_xgb\n",
    "\n",
    "\n",
    "# Retrain the model on the whole training set before making final predictions.\n",
    "log_reg.fit(train_feats_encoded, train_labels)\n",
    "xgb_model.fit(train_feats_encoded, train_labels)\n",
    "\n",
    "# Make predictions on the test set and save to submission csv.\n",
    "#test_preds = log_reg.predict(test_encoded)\n",
    "test_preds = log_reg.predict_proba(test_encoded)[:,1]\n",
    "\n",
    "test_preds_xgb = xgb_model.predict_proba(test_encoded)[:,1]\n",
    "\n",
    "submission = pd.DataFrame({\"Id\":test.id, \"Action\":test_preds})\n",
    "submission.to_csv('/Users/shammakabir/EE379K/Lab8/data/submission.csv', index=False)\n",
    "\n",
    "submission_xgb = pd.DataFrame({\"Id\":test.id, \"Action\":test_preds_xgb})\n",
    "submission.to_csv('/Users/shammakabir/EE379K/Lab8/data/submission_xgb.csv', index=False)"
   ]
  },
  {
   "cell_type": "code",
   "execution_count": null,
   "metadata": {
    "collapsed": true
   },
   "outputs": [],
   "source": []
  },
  {
   "cell_type": "code",
   "execution_count": null,
   "metadata": {
    "collapsed": true
   },
   "outputs": [],
   "source": []
  }
 ],
 "metadata": {
  "kernelspec": {
   "display_name": "Python 2",
   "language": "python",
   "name": "python2"
  },
  "language_info": {
   "codemirror_mode": {
    "name": "ipython",
    "version": 2
   },
   "file_extension": ".py",
   "mimetype": "text/x-python",
   "name": "python",
   "nbconvert_exporter": "python",
   "pygments_lexer": "ipython2",
   "version": "2.7.12"
  }
 },
 "nbformat": 4,
 "nbformat_minor": 2
}
