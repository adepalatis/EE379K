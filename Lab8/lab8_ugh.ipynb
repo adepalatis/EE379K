{
 "cells": [
  {
   "cell_type": "code",
   "execution_count": 1,
   "metadata": {
    "collapsed": true
   },
   "outputs": [],
   "source": [
    "import pandas as pd\n",
    "import numpy as np\n",
    "import matplotlib.pyplot as plt\n",
    "from sklearn.linear_model import LogisticRegression\n",
    "from sklearn.cross_validation import train_test_split\n",
    "from sklearn.preprocessing import OneHotEncoder\n",
    "\n",
    "SEED = 42"
   ]
  },
  {
   "cell_type": "code",
   "execution_count": 2,
   "metadata": {
    "collapsed": true
   },
   "outputs": [],
   "source": [
    "''' Fits a OneHotEncoder to a concatenation of the given data and returns the encoded data. '''\n",
    "def encode_all_data(train, test):\n",
    "    # Fit the OneHotEncoder to the training and testing data.\n",
    "    enc = OneHotEncoder()\n",
    "    enc.fit(train.append(test))\n",
    "\n",
    "    # Encode the data.\n",
    "    train_feats_encoded = enc.transform(train)\n",
    "    test_encoded = enc.transform(test)\n",
    "    \n",
    "    return train_feats_encoded, test_encoded"
   ]
  },
  {
   "cell_type": "code",
   "execution_count": 4,
   "metadata": {
    "collapsed": false
   },
   "outputs": [
    {
     "name": "stdout",
     "output_type": "stream",
     "text": [
      "0.945620994812\n"
     ]
    }
   ],
   "source": [
    "train = pd.read_csv('/Users/shammakabir/EE379K/Lab8/data/train.csv')\n",
    "test = pd.read_csv('/Users/shammakabir/EE379K/Lab8/data/test.csv')\n",
    "train_features = train.drop(['ACTION', 'MGR_ID'], axis=1)\n",
    "train_labels = train['ACTION']\n",
    "test_trimmed = test.drop(['id', 'MGR_ID'], axis=1)\n",
    "\n",
    "train_feats_encoded, test_encoded = encode_all_data(train_features, test_trimmed)\n",
    "\n",
    "# Perform cross validation procedure 10 times, holding out 20% of training data as the CV set.\n",
    "mean_err = 0.\n",
    "for k in range(10):\n",
    "    # Split the training data into training and testing sets for cross-validation.\n",
    "    x_train, x_test, y_train, y_test = train_test_split(train_feats_encoded, train_labels, test_size=0.2, random_state=k*SEED)\n",
    "\n",
    "    # Create and fit the Logistic Regression model.\n",
    "    log_reg = LogisticRegression()\n",
    "    log_reg.fit(x_train, y_train)\n",
    "\n",
    "    # Calculate training error.\n",
    "    preds = log_reg.predict(x_test)\n",
    "    fold_err = log_reg.score(x_test, y_test)\n",
    "    mean_err += fold_err\n",
    "mean_err /= 10\n",
    "print mean_err\n",
    "\n",
    "# Retrain the model on the whole training set before making final predictions.\n",
    "log_reg.fit(train_feats_encoded, train_labels)\n",
    "\n",
    "# Make predictions on the test set and save to submission csv.\n",
    "test_preds = log_reg.predict(test_encoded)\n",
    "submission = pd.DataFrame({\"Id\":test.id, \"Action\":test_preds})\n",
    "submission.to_csv('/Users/shammakabir/EE379K/Lab8/data/submission.csv', index=False)"
   ]
  },
  {
   "cell_type": "code",
   "execution_count": null,
   "metadata": {
    "collapsed": true
   },
   "outputs": [],
   "source": []
  }
 ],
 "metadata": {
  "kernelspec": {
   "display_name": "Python 2",
   "language": "python",
   "name": "python2"
  },
  "language_info": {
   "codemirror_mode": {
    "name": "ipython",
    "version": 2
   },
   "file_extension": ".py",
   "mimetype": "text/x-python",
   "name": "python",
   "nbconvert_exporter": "python",
   "pygments_lexer": "ipython2",
   "version": "2.7.12"
  }
 },
 "nbformat": 4,
 "nbformat_minor": 2
}
