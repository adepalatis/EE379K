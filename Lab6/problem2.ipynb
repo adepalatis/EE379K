{
 "cells": [
  {
   "cell_type": "code",
   "execution_count": 2,
   "metadata": {
    "collapsed": false
   },
   "outputs": [
    {
     "data": {
      "text/plain": [
       "<matplotlib.collections.PathCollection at 0x110289890>"
      ]
     },
     "execution_count": 2,
     "metadata": {},
     "output_type": "execute_result"
    }
   ],
   "source": [
    "import numpy as np\n",
    "import pandas as pd\n",
    "import matplotlib.pyplot as plt\n",
    "from numpy import linalg as lin\n",
    "from copy import deepcopy\n",
    "from collections import defaultdict\n",
    "\n",
    "\n",
    "#part two:\n",
    "def part_two(num_pts, inner, outer, var1, var2):\n",
    "    coordinates = []\n",
    "    for i in range(num_pts):\n",
    "        theta = np.random.uniform(0, 2 * np.pi)\n",
    "        circle = False\n",
    "        if np.random.random_integers(0, 1) == 1:\n",
    "            circle = True\n",
    "        if circle == True:\n",
    "            epsilon = np.random.normal(scale=var1)\n",
    "            rad = inner\n",
    "\n",
    "        else:\n",
    "            epsilon = np.random.normal(scale=var2)\n",
    "            rad = outer\n",
    "            \n",
    "        y = rad*np.sin(theta) + epsilon\n",
    "        x = rad*np.cos(theta) + epsilon\n",
    "        coordinates.append([x, y])\n",
    "    return coordinates\n",
    "\n",
    "generate = pd.DataFrame(part_two(1000, 1, 2, 0.1, 0.1))\n",
    "plt.scatter(generate[0], generate[1])\n",
    "#plt.show()"
   ]
  },
  {
   "cell_type": "code",
   "execution_count": 9,
   "metadata": {
    "collapsed": false
   },
   "outputs": [],
   "source": [
    "#part 3:\n",
    "\n",
    "\n",
    "generated_points = part_two(500,1,2,0.1,0.1)\n",
    "\n",
    "'''The ε-neighborhood graph: \n",
    "Here we connect all points whose pairwise distances are smaller than ε. \n",
    "As the distances between all connected points are roughly of the same scale (at most ε), \n",
    "weighting the edges would not incorporate more information about the data to the graph. \n",
    "Hence, the ε-neighborhood graph is usually considered as an unweighted graph'''\n",
    "\n",
    "epsilon = 1.\n",
    "sim_matrix_one = []\n",
    "\n",
    "for point in generated_points:\n",
    "    sim_check = []\n",
    "\n",
    "    for second_point in generated_points:\n",
    "        similarity = np.linalg.norm(np.array(point)-np.array(second_point))\n",
    "        if similarity > epsilon:\n",
    "            sim_check.append(0)\n",
    "        else:\n",
    "            sim_check.append(1)\n",
    "    sim_matrix_one.append(sim_check)\n",
    "#print(sim_matrix_one)\n",
    "\n"
   ]
  },
  {
   "cell_type": "code",
   "execution_count": null,
   "metadata": {
    "collapsed": true
   },
   "outputs": [],
   "source": []
  },
  {
   "cell_type": "code",
   "execution_count": null,
   "metadata": {
    "collapsed": true
   },
   "outputs": [],
   "source": []
  }
 ],
 "metadata": {
  "kernelspec": {
   "display_name": "Python 2",
   "language": "python",
   "name": "python2"
  },
  "language_info": {
   "codemirror_mode": {
    "name": "ipython",
    "version": 2
   },
   "file_extension": ".py",
   "mimetype": "text/x-python",
   "name": "python",
   "nbconvert_exporter": "python",
   "pygments_lexer": "ipython2",
   "version": "2.7.12"
  }
 },
 "nbformat": 4,
 "nbformat_minor": 2
}
