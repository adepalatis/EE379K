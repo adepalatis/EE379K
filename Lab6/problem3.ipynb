{
 "cells": [
  {
   "cell_type": "code",
   "execution_count": 7,
   "metadata": {
    "collapsed": false
   },
   "outputs": [],
   "source": [
    "import numpy as np\n",
    "import pandas as pd\n",
    "import matplotlib.pyplot as plt\n",
    "\n",
    "''' Read the data and separate labels and data '''\n",
    "two_moons = pd.read_csv('/Users/anthonydepalatis/Documents/School/EE379K/Lab6/data/two_moons.csv', header=None)\n",
    "linked_chains = pd.read_csv('/Users/anthonydepalatis/Documents/School/EE379K/Lab6/data/linked_chains.csv', header=None)\n",
    "\n",
    "moons_labels = two_moons[0]\n",
    "moons_data = two_moons.drop(0, axis=1)\n",
    "chains_labels = linked_chains[0]\n",
    "chains_data = linked_chains.drop(0, axis=1)\n",
    "\n",
    "# Plot the data\n",
    "plt.plot(moons_data[0], moons_data[1])\n",
    "plt.title(two_moons)"
   ]
  },
  {
   "cell_type": "code",
   "execution_count": null,
   "metadata": {
    "collapsed": true
   },
   "outputs": [],
   "source": []
  }
 ],
 "metadata": {
  "kernelspec": {
   "display_name": "Python 2",
   "language": "python",
   "name": "python2"
  },
  "language_info": {
   "codemirror_mode": {
    "name": "ipython",
    "version": 2
   },
   "file_extension": ".py",
   "mimetype": "text/x-python",
   "name": "python",
   "nbconvert_exporter": "python",
   "pygments_lexer": "ipython2",
   "version": "2.7.13"
  }
 },
 "nbformat": 4,
 "nbformat_minor": 2
}
