{
 "cells": [
  {
   "cell_type": "code",
   "execution_count": 69,
   "metadata": {
    "collapsed": false
   },
   "outputs": [],
   "source": [
    "import numpy as np\n",
    "import random\n",
    "import math\n",
    "\n",
    "''' Provides an abstraction of a data point as a Euclidean point with (x,y) coordinates '''\n",
    "class Point:\n",
    "    def __init__(self, x, y):\n",
    "        self.x = x\n",
    "        self.y = y\n",
    "        \n",
    "    def __str__(self):\n",
    "        return '(' + str(self.x) + ',' + str(self.y) + ')'\n",
    "    \n",
    "    def __repr__(self):\n",
    "        return self.__str__()\n",
    "    \n",
    "    ''' Returns the point in the given list that is closest (in terms of Euclidean distance) to this point '''\n",
    "    def closest_point(self, points):\n",
    "        shortest_dist = float('inf')\n",
    "        closest_point = 0\n",
    "        for point in points:\n",
    "            dist = math.sqrt((point.x - self.x)**2 + (point.y - self.y)**2)\n",
    "            if dist < shortest_dist:\n",
    "                shortest_dist = dist\n",
    "                closest_point = point\n",
    "        return closest_point"
   ]
  },
  {
   "cell_type": "code",
   "execution_count": 70,
   "metadata": {
    "collapsed": false
   },
   "outputs": [],
   "source": [
    "''' Returns the point that is closest to the average of the given list of Point objects '''\n",
    "def average_point(points):\n",
    "    avg_x = 0.\n",
    "    avg_y = 0.\n",
    "    for point in points:\n",
    "        avg_x += point.x\n",
    "        avg_y += point.y\n",
    "    avg_x /= len(points)\n",
    "    avg_y /= len(points)\n",
    "    \n",
    "    avgPt = Point(avg_x, avg_y)\n",
    "    closestToAvg = avgPt.closest_point(points)\n",
    "    return closestToAvg        "
   ]
  },
  {
   "cell_type": "code",
   "execution_count": 71,
   "metadata": {
    "collapsed": false
   },
   "outputs": [],
   "source": [
    "def k_means(points, k):\n",
    "    # Initialize the centroids by randomly choosing k points from the dataset\n",
    "    centroids = random.sample(points, k)\n",
    "    previous_centroids = {}\n",
    "    \n",
    "    # Assign clusters and reassign centroids until they no longer change\n",
    "    \n",
    "    while centroids != last_centroids:\n",
    "        clusters = {cent: [cent] for cent in centroids}\n",
    "        \n",
    "        # Assign each point to the closest centroid\n",
    "        for point in points:\n",
    "            if point not in centroids:\n",
    "                # Find the centroid closest to the point and add it to its cluster\n",
    "                closest_cent = point.closest_point(centroids)\n",
    "                clusters[closest_cent].append(point)\n",
    "                \n",
    "        # Keep track of the previous set of centroids\n",
    "        last_centroids = centroids\n",
    "\n",
    "        # Reassign centroids as the average of the points in each cluster\n",
    "        for centroid in clusters:\n",
    "            print centroid, clusters[centroid]\n",
    "            newCentroid = average_point(clusters[centroid])\n",
    "            print newCentroid"
   ]
  },
  {
   "cell_type": "code",
   "execution_count": 72,
   "metadata": {
    "collapsed": false
   },
   "outputs": [
    {
     "name": "stdout",
     "output_type": "stream",
     "text": [
      "(6,7) [(6,7), (5,6), (7,8), (8,9), (9,10), (10,11), (11,12)]\n",
      "(8,9)\n",
      "(17,18) [(17,18), (12,13), (13,14), (14,15), (15,16), (16,17), (18,19), (19,20)]\n",
      "(15,16)\n",
      "(3,4) [(3,4), (0,1), (1,2), (2,3), (4,5)]\n",
      "(2,3)\n"
     ]
    }
   ],
   "source": [
    "myList = [Point(i, i+1) for i in range(20)]\n",
    "k_means(myList, 3)"
   ]
  },
  {
   "cell_type": "code",
   "execution_count": null,
   "metadata": {
    "collapsed": true
   },
   "outputs": [],
   "source": []
  }
 ],
 "metadata": {
  "kernelspec": {
   "display_name": "Python 2",
   "language": "python",
   "name": "python2"
  },
  "language_info": {
   "codemirror_mode": {
    "name": "ipython",
    "version": 2
   },
   "file_extension": ".py",
   "mimetype": "text/x-python",
   "name": "python",
   "nbconvert_exporter": "python",
   "pygments_lexer": "ipython2",
   "version": "2.7.13"
  }
 },
 "nbformat": 4,
 "nbformat_minor": 2
}
