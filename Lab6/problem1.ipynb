{
 "cells": [
  {
   "cell_type": "code",
   "execution_count": 9,
   "metadata": {
    "collapsed": false
   },
   "outputs": [],
   "source": [
    "import numpy as np\n",
    "import random\n",
    "import math\n",
    "import matplotlib.pyplot as plt\n",
    "\n",
    "''' Provides an abstraction of a data point as a Euclidean point with (x,y) coordinates. '''\n",
    "class Point:\n",
    "    def __init__(self, x, y):\n",
    "        self.x = x\n",
    "        self.y = y\n",
    "        \n",
    "    def __str__(self):\n",
    "        return '(' + str(self.x) + ',' + str(self.y) + ')'\n",
    "    \n",
    "    def __repr__(self):\n",
    "        return self.__str__()\n",
    "    \n",
    "    ''' Returns the point in the given list that is closest (in terms of Euclidean distance) to this point. '''\n",
    "    def closest_point(self, points):\n",
    "        shortest_dist = float('inf')\n",
    "        closest_point = 0\n",
    "        for point in points:\n",
    "            dist = math.sqrt((point.x - self.x)**2 + (point.y - self.y)**2)\n",
    "            if dist < shortest_dist:\n",
    "                shortest_dist = dist\n",
    "                closest_point = point\n",
    "        return closest_point"
   ]
  },
  {
   "cell_type": "code",
   "execution_count": 10,
   "metadata": {
    "collapsed": false
   },
   "outputs": [],
   "source": [
    "''' Returns the point that is closest to the average of the given list of Point objects. '''\n",
    "def average_point(points):\n",
    "    avg_x = 0.\n",
    "    avg_y = 0.\n",
    "    for point in points:\n",
    "        avg_x += point.x\n",
    "        avg_y += point.y\n",
    "    avg_x /= len(points)\n",
    "    avg_y /= len(points)\n",
    "    \n",
    "    avgPt = Point(avg_x, avg_y)\n",
    "    closestToAvg = avgPt.closest_point(points)\n",
    "    return closestToAvg"
   ]
  },
  {
   "cell_type": "code",
   "execution_count": 11,
   "metadata": {
    "collapsed": false
   },
   "outputs": [],
   "source": [
    "''' Creates a scatterplot of the given clusters, color-coding by cluster and highlighting centroids in red. '''\n",
    "def plot_clusters(points, clusters):\n",
    "    colors = ['blue', 'green', 'cyan', 'magenta', 'yellow', 'black']\n",
    "    centroids = clusters.keys()\n",
    "    \n",
    "    for point in points:\n",
    "        if point in centroids:\n",
    "            plt.scatter(point.x, point.y, color='red')\n",
    "        else:\n",
    "            for centroid in clusters:\n",
    "                if point in clusters[centroid]:\n",
    "                    colorInd = centroids.index(centroid) % len(colors)\n",
    "            plt.scatter(point.x, point.y, color=colors[colorInd])\n",
    "    plt.show()"
   ]
  },
  {
   "cell_type": "code",
   "execution_count": 12,
   "metadata": {
    "collapsed": true
   },
   "outputs": [],
   "source": [
    "''' K medioids centroid initialization. '''\n",
    "def init_k_medioids(points, k):\n",
    "    return random.sample(points, k)"
   ]
  },
  {
   "cell_type": "code",
   "execution_count": 13,
   "metadata": {
    "collapsed": true
   },
   "outputs": [],
   "source": [
    "''' Kmeans++ centroid initialization. '''\n",
    "def init_kpp(points, k):\n",
    "    pass"
   ]
  },
  {
   "cell_type": "code",
   "execution_count": 16,
   "metadata": {
    "collapsed": false
   },
   "outputs": [],
   "source": [
    "def k_means(centroid_init_func, points, k):\n",
    "    # Initialize the centroids by randomly choosing k points from the dataset\n",
    "    centroids = centroid_init_func(points, k)\n",
    "    previous_centroids = []\n",
    "    \n",
    "    # Assign clusters and reassign centroids until they stop changing\n",
    "    while centroids != previous_centroids:\n",
    "        previous_centroids = [cent for cent in centroids]\n",
    "        clusters = {cent: [cent] for cent in centroids}\n",
    "        \n",
    "        # Assign each point to the closest centroid\n",
    "        for point in points:\n",
    "            if point not in centroids:\n",
    "                # Find the centroid closest to the point and add it to its cluster\n",
    "                closest_cent = point.closest_point(centroids)\n",
    "                clusters[closest_cent].append(point)\n",
    "                \n",
    "        # Plot the current clusters\n",
    "        plot_clusters(points, clusters)\n",
    "                \n",
    "        # Keep track of the previous set of centroids\n",
    "        last_centroids = centroids\n",
    "\n",
    "        # Reassign centroids \n",
    "        for centroid in clusters:\n",
    "            centroids.append(average_point(clusters[centroid]))    # Assign the new centroid\n",
    "            centroids.remove(centroid)    # Delete the old centroid"
   ]
  },
  {
   "cell_type": "code",
   "execution_count": 17,
   "metadata": {
    "collapsed": false
   },
   "outputs": [
    {
     "data": {
      "image/png": "[encoded data removed]",
      "text/plain": [
       "<matplotlib.figure.Figure at 0x10b813b10>"
      ]
     },
     "metadata": {},
     "output_type": "display_data"
    },
    {
     "data": {
      "image/png": "[encoded data removed]",
      "text/plain": [
       "<matplotlib.figure.Figure at 0x10bd03bd0>"
      ]
     },
     "metadata": {},
     "output_type": "display_data"
    },
    {
     "data": {
      "image/png": "[encoded data removed]",
      "text/plain": [
       "<matplotlib.figure.Figure at 0x10c165b10>"
      ]
     },
     "metadata": {},
     "output_type": "display_data"
    }
   ],
   "source": [
    "mList = [Point(round(np.random.uniform(0,5), 2), round(np.random.uniform(0,5), 2)) for i in range(100)]\n",
    "k_means(init_k_medioids, mList, 3)"
   ]
  },
  {
   "cell_type": "code",
   "execution_count": null,
   "metadata": {
    "collapsed": true
   },
   "outputs": [],
   "source": []
  }
 ],
 "metadata": {
  "kernelspec": {
   "display_name": "Python 2",
   "language": "python",
   "name": "python2"
  },
  "language_info": {
   "codemirror_mode": {
    "name": "ipython",
    "version": 2
   },
   "file_extension": ".py",
   "mimetype": "text/x-python",
   "name": "python",
   "nbconvert_exporter": "python",
   "pygments_lexer": "ipython2",
   "version": "2.7.13"
  }
 },
 "nbformat": 4,
 "nbformat_minor": 2
}
