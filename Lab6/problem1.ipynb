{
 "cells": [
  {
   "cell_type": "code",
   "execution_count": 1,
   "metadata": {
    "collapsed": false
   },
   "outputs": [],
   "source": [
    "import numpy as np\n",
    "import random\n",
    "import math\n",
    "import pandas as pd\n",
    "import matplotlib.pyplot as plt\n",
    "\n",
    "''' Provides an abstraction of a data point as a Euclidean point with (x,y) coordinates. '''\n",
    "class Point:\n",
    "    def __init__(self, x, y):\n",
    "        self.x = x\n",
    "        self.y = y\n",
    "        \n",
    "    def __str__(self):\n",
    "        return '(' + str(self.x) + ',' + str(self.y) + ')'\n",
    "    \n",
    "    def __repr__(self):\n",
    "        return self.__str__()\n",
    "    \n",
    "    ''' Returns the point in the given list that is closest (in terms of Euclidean distance) to this point. '''\n",
    "    def closest_point(self, points):\n",
    "        shortest_dist = float('inf')\n",
    "        closest_point = 0\n",
    "        for point in points:\n",
    "            dist = math.sqrt((point.x - self.x)**2 + (point.y - self.y)**2)\n",
    "            if dist < shortest_dist:\n",
    "                shortest_dist = dist\n",
    "                closest_point = point\n",
    "        return closest_point"
   ]
  },
  {
   "cell_type": "code",
   "execution_count": 18,
   "metadata": {
    "collapsed": false
   },
   "outputs": [],
   "source": [
    "''' Returns the point that is closest to the average of the given list of Point objects. '''\n",
    "def average_point(points):\n",
    "    avg_x = 0.\n",
    "    avg_y = 0.\n",
    "    for point in points:\n",
    "        avg_x += point.x\n",
    "        avg_y += point.y\n",
    "    avg_x /= len(points)\n",
    "    avg_y /= len(points)\n",
    "    \n",
    "    avgPt = Point(avg_x, avg_y)\n",
    "    closestToAvg = avgPt.closest_point(points)\n",
    "    return closestToAvg\n",
    "    #return avgPt"
   ]
  },
  {
   "cell_type": "code",
   "execution_count": 19,
   "metadata": {
    "collapsed": false
   },
   "outputs": [],
   "source": [
    "''' Creates a scatterplot of the given clusters, color-coding by cluster and highlighting centroids in red. '''\n",
    "def plot_clusters(points, clusters):\n",
    "    colors = ['blue', 'green', 'cyan', 'magenta', 'yellow', 'black']\n",
    "    centroids = clusters.keys()\n",
    "    \n",
    "    for point in points:\n",
    "        if point in centroids:\n",
    "            plt.scatter(point.x, point.y, color='red')\n",
    "        else:\n",
    "            for centroid in clusters:\n",
    "                if point in clusters[centroid]:\n",
    "                    colorInd = centroids.index(centroid) % len(colors)\n",
    "            plt.scatter(point.x, point.y, color=colors[colorInd])\n",
    "    plt.show()"
   ]
  },
  {
   "cell_type": "code",
   "execution_count": 20,
   "metadata": {
    "collapsed": true
   },
   "outputs": [],
   "source": [
    "''' K medioids centroid initialization. '''\n",
    "def init_k_medioids(points, k):\n",
    "    return random.sample(points, k)"
   ]
  },
  {
   "cell_type": "code",
   "execution_count": 21,
   "metadata": {
    "collapsed": false
   },
   "outputs": [],
   "source": [
    "''' Kmeans++ centroid initialization. '''\n",
    "def init_kpp(points, k):\n",
    "    # Choose first centroid uniformly at random\n",
    "    centroids = [random.choice(points)]\n",
    "    \n",
    "    # Choose the remaining k-1 centroids\n",
    "    for i in range(1, k):\n",
    "        # For each point, calculate the squared distance between it and the closest already-chosen centroid\n",
    "        distances = [None for j in range(len(points))]\n",
    "        for j in range(len(points)):\n",
    "            closest_cent = points[j].closest_point(centroids)\n",
    "            distances[j] = (closest_cent.x - points[j].x)**2 + (closest_cent.y - points[j].y)**2\n",
    "\n",
    "        # Generate probability weights proportional to the previously calculated squared distances\n",
    "        weights = [distances[j] / sum(distances) for j in range(len(distances))]\n",
    "\n",
    "        # Choose a new centroid randomly from the remaining points \n",
    "        centroids.append(np.random.choice(points, p=weights))\n",
    "\n",
    "    return centroids"
   ]
  },
  {
   "cell_type": "code",
   "execution_count": 22,
   "metadata": {
    "collapsed": false
   },
   "outputs": [],
   "source": [
    "''' Performs the k-means clustering algorithm using the given centroid initialization method. '''\n",
    "def k_means(centroid_init_func, points, k):\n",
    "    # Initialize the centroids by randomly choosing k points from the dataset\n",
    "    centroids = centroid_init_func(points, k)\n",
    "    previous_centroids = []\n",
    "    \n",
    "    # Assign clusters and reassign centroids until they stop changing\n",
    "    while centroids != previous_centroids:\n",
    "        previous_centroids = [cent for cent in centroids]\n",
    "        clusters = {cent: [cent] for cent in centroids}\n",
    "        \n",
    "        # Assign each point to the closest centroid\n",
    "        for point in points:\n",
    "            if point not in centroids:\n",
    "                # Find the centroid closest to the point and add it to its cluster\n",
    "                closest_cent = point.closest_point(centroids)\n",
    "                clusters[closest_cent].append(point)\n",
    "                \n",
    "        # Plot the current clusters\n",
    "        #plot_clusters(points, clusters)\n",
    "                \n",
    "        # Keep track of the previous set of centroids\n",
    "        last_centroids = centroids\n",
    "\n",
    "        # Reassign centroids \n",
    "        for centroid in clusters:\n",
    "            centroids.append(average_point(clusters[centroid]))    # Assign the new centroid\n",
    "            centroids.remove(centroid)    # Delete the old centroid\n",
    "    \n",
    "    # Plot the final clusters\n",
    "    plot_clusters(points, clusters)"
   ]
  },
  {
   "cell_type": "code",
   "execution_count": 23,
   "metadata": {
    "collapsed": true
   },
   "outputs": [],
   "source": [
    "''' Plots sepal width vs. sepal length from Iris Data. '''\n",
    "def plot_iris_data():\n",
    "    data = pd.read_csv('/Users/anthonydepalatis/Documents/School/EE379K/Lab6/data/iris_data.csv')\n",
    "    plt.scatter(data['Sepal.Length'], data['Sepal.Width'])\n",
    "    plt.title('Sepal Width vs. Sepal Length')\n",
    "    plt.xlabel('Sepal Length')\n",
    "    plt.ylabel('Sepal Width')\n",
    "    plt.show()"
   ]
  },
  {
   "cell_type": "code",
   "execution_count": null,
   "metadata": {
    "collapsed": false
   },
   "outputs": [],
   "source": [
    "mList = [Point(round(np.random.uniform(0,5), 2), round(np.random.uniform(0,5), 2)) for i in range(100)]\n",
    "k_means(init_k_medioids, mList, 6)\n",
    "plot_iris_data()\n",
    "\n",
    "data = pd.read_csv('/Users/anthonydepalatis/Documents/School/EE379K/Lab6/data/iris_data.csv')\n",
    "length = data['Sepal.Length']\n",
    "width = data['Sepal.Width']\n",
    "\n",
    "points = []\n",
    "for x in range(len(length)):\n",
    "    points.append(Point(length[x], width[x]))\n",
    "\n",
    "#for k in range(2, 6):\n",
    "#    k_means(init_k_medioids, points, k)"
   ]
  },
  {
   "cell_type": "code",
   "execution_count": null,
   "metadata": {
    "collapsed": true
   },
   "outputs": [],
   "source": []
  }
 ],
 "metadata": {
  "kernelspec": {
   "display_name": "Python 2",
   "language": "python",
   "name": "python2"
  },
  "language_info": {
   "codemirror_mode": {
    "name": "ipython",
    "version": 2
   },
   "file_extension": ".py",
   "mimetype": "text/x-python",
   "name": "python",
   "nbconvert_exporter": "python",
   "pygments_lexer": "ipython2",
   "version": "2.7.13"
  }
 },
 "nbformat": 4,
 "nbformat_minor": 2
}
