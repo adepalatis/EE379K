{
 "cells": [
  {
   "cell_type": "code",
   "execution_count": 4,
   "metadata": {
    "collapsed": false
   },
   "outputs": [],
   "source": [
    "import numpy as np\n",
    "import pandas as pd\n",
    "import matplotlib.pyplot as plt\n",
    "from numpy import linalg as lin\n",
    "from copy import deepcopy\n",
    "from collections import defaultdict\n",
    "\n",
    "#part one:\n",
    "\n",
    "\n",
    "class SpectralCluster(object):\n",
    "    def __init__(self, data, k, sigma=1):\n",
    "        self.k = min(k, data.shape[0])\n",
    "        self.orig_points = data.as_matrix()\n",
    "        self.centers = None\n",
    "        self.points = None\n",
    "        self._spect_(sigma)\n",
    "        self.clusters = defaultdict(list)\n",
    "      \n",
    "    def _spect_(self, sigma):\n",
    "\n",
    "        num = self.orig_points.shape[0] \n",
    "        pts = self.orig_points\n",
    "        mat = np.zeros((num, num))\n",
    "        for i in range(n):\n",
    "            mat[i, :] = lin.norm(pts[i] - pts, axis=1) ** 2\n",
    "        mat = np.exp(-mat / (2 * np.power(sigma, 2)))\n",
    "        np.fill_diagonal(mat, 0)\n",
    "        \n",
    "        d = np.diag(np.reciprocal(np.power(mat.sum(axis=1), .5)))\n",
    "        lap = d * mat * d\n",
    "        x, y = lin.eig(L)\n",
    "        pair = list(zip(x,y))\n",
    "        pair.sort(key=lambda x: x[0], reverse=True)\n",
    "        largest_eig = [y for x, x in pair[:self.k]]\n",
    "        mat_X = np.array(largest_eig).T\n",
    "        mat_Y = mat_X / (np.sqrt(mat_X**2).sum(axis=1).reshape(-1,1))\n",
    "        self.points = mat_Y\n",
    "        self.centers = pd.DataFrame(mat_Y).sample(self._k).as_matrix()\n",
    "   \n",
    "\n",
    "    def _center_(self, pt):\n",
    "        distance = lin.norm(self.points[pt] - self.centers, axis=1)\n",
    "        minimum = np.argmin(distance)\n",
    "        return minimum\n",
    "    \n",
    "    def _assignments_of_points(self):\n",
    "        c = defaultdict(list)\n",
    "        for pt in self.points:\n",
    "            index = self._center_(pt)\n",
    "            c[index].append(pt)\n",
    "        self.clusters = c\n",
    "        \n",
    "    def centroids(self):\n",
    "        self._assignments_of_points()\n",
    "        new = np.zeros(self.centers.shape)\n",
    "        for index, c in sorted(self.clusters).items():\n",
    "            pts_in_cluster = np.array(c)\n",
    "            average = np.sum(pts_in_cluster, axis = 0)\n",
    "            average = average/pts_in_cluster.shape[0]\n",
    "            new[index] = average\n",
    "        self.centers = new\n",
    "    \n",
    "    def _orig(self):\n",
    "        val = self.clusters.values()\n",
    "        orig = [[self.orig_points[i] for i in c for c in val]]\n",
    "        return orig\n",
    "    def prog(self, n=20):\n",
    "        for i in range(n):\n",
    "            cent = deepcopy(self.centers)\n",
    "            self.centroids()\n",
    "            if i != 0: \n",
    "                if self.centers == cent:\n",
    "                    break\n",
    "        return zip(self.centers, self._orig())\n",
    "            "
   ]
  },
  {
   "cell_type": "code",
   "execution_count": 5,
   "metadata": {
    "collapsed": false
   },
   "outputs": [
    {
     "name": "stderr",
     "output_type": "stream",
     "text": [
      "/Users/anthonydepalatis/anaconda/lib/python2.7/site-packages/ipykernel/__main__.py:7: DeprecationWarning: This function is deprecated. Please call randint(0, 1 + 1) instead\n"
     ]
    },
    {
     "data": {
      "text/plain": [
       "<matplotlib.collections.PathCollection at 0x10443fed0>"
      ]
     },
     "execution_count": 5,
     "metadata": {},
     "output_type": "execute_result"
    }
   ],
   "source": [
    "#part two:\n",
    "def part_two(num_pts, inner, outer, var1, var2):\n",
    "    coordinates = []\n",
    "    for i in range(num_pts):\n",
    "        t = np.random.uniform(0, 2 * np.pi)\n",
    "        check = False\n",
    "        if np.random.random_integers(0, 1) == 1:\n",
    "            check = True\n",
    "        if check == True:\n",
    "            epsilon = np.random.normal(scale=var1)\n",
    "            rad = inner\n",
    "\n",
    "        else:\n",
    "            epsilon = np.random.normal(scale=var2)\n",
    "            rad = outer\n",
    "            \n",
    "        y = rad*np.sin(t) + epsilon\n",
    "        x = rad*np.cos(t) + epsilon\n",
    "        coordinates.append([x, y])\n",
    "    return coordinates\n",
    "\n",
    "generate = pd.DataFrame(part_two(1000, 1, 2, 0.1, 0.1))\n",
    "plt.scatter(generate[0], generate[1])\n",
    "#plt.show()"
   ]
  },
  {
   "cell_type": "code",
   "execution_count": 6,
   "metadata": {
    "collapsed": false
   },
   "outputs": [
    {
     "ename": "SyntaxError",
     "evalue": "invalid syntax (<ipython-input-6-6fe66d68a292>, line 38)",
     "output_type": "error",
     "traceback": [
      "\u001b[0;36m  File \u001b[0;32m\"<ipython-input-6-6fe66d68a292>\"\u001b[0;36m, line \u001b[0;32m38\u001b[0m\n\u001b[0;31m    check.append(similarity)\u001b[0m\n\u001b[0m        ^\u001b[0m\n\u001b[0;31mSyntaxError\u001b[0m\u001b[0;31m:\u001b[0m invalid syntax\n"
     ]
    }
   ],
   "source": [
    "#part 3:\n",
    "\n",
    "\n",
    "generated_points = part_two(500,1,2,0.1,0.1)\n",
    "\n",
    "'''The ε-neighborhood graph: \n",
    "Here we connect all points whose pairwise distances are smaller than ε. \n",
    "As the distances between all connected points are roughly of the same scale (at most ε), \n",
    "weighting the edges would not incorporate more information about the data to the graph. \n",
    "Hence, the ε-neighborhood graph is usually considered as an unweighted graph'''\n",
    "\n",
    "epsilon = 1.\n",
    "sim_matrix_one = []\n",
    "\n",
    "for pt in generated_points:\n",
    "    check = []\n",
    "\n",
    "    for pt2 in generated_points:\n",
    "        similarity = np.linalg.norm(np.array(pt)-np.array(pt2))\n",
    "        if similarity > epsilon:\n",
    "            check.append(0)\n",
    "        else:\n",
    "            check.append(1)\n",
    "    sim_matrix_one.append(check)\n",
    "\n",
    "\n",
    "'''k-nearest neighbor graphs'''\n",
    "\n",
    "k=10\n",
    "\n",
    "sim_matrix_two = [] \n",
    "\n",
    "for pt in generated_points:\n",
    "\n",
    "    check = []\n",
    "    for pt2 in data:\n",
    "        similarity = np.linalg.norm(np.array(pt)-np.array(pt2)\n",
    "        check.append(similarity)\n",
    "    i = np.argpartition(check, k)\n",
    "    i = i[:k]\n",
    "    sims = []\n",
    "    l = len(generated_points)\n",
    "    for x in range(len(l)):\n",
    "        if x in idx:\n",
    "            sims.append(sim[i])\n",
    "        else:\n",
    "            sims.append(0)\n",
    "        sim_matrix_two.append(sims)\n",
    "                                    \n",
    "'''fully connected'''\n",
    "                                    \n",
    "                                    \n",
    "sigma = 5\n",
    "sim_matrix_three = []\n",
    "    for pt in generated_points:\n",
    "        sims = []\n",
    "             for pt2 in generated_points:\n",
    "                 similarity = np.exp(-(np.linalg.norm(np.array(pt)-np.array(pt2))**2)/(2*sigma**2))\n",
    "                 sims.append(similarity)\n",
    "             sim_matrix_three.append(sims)"
   ]
  },
  {
   "cell_type": "code",
   "execution_count": null,
   "metadata": {
    "collapsed": true
   },
   "outputs": [],
   "source": []
  }
 ],
 "metadata": {
  "kernelspec": {
   "display_name": "Python 2",
   "language": "python",
   "name": "python2"
  },
  "language_info": {
   "codemirror_mode": {
    "name": "ipython",
    "version": 2
   },
   "file_extension": ".py",
   "mimetype": "text/x-python",
   "name": "python",
   "nbconvert_exporter": "python",
   "pygments_lexer": "ipython2",
   "version": "2.7.13"
  }
 },
 "nbformat": 4,
 "nbformat_minor": 2
}
