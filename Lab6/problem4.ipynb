{
 "cells": [
  {
   "cell_type": "code",
   "execution_count": 20,
   "metadata": {
    "collapsed": false
   },
   "outputs": [
    {
     "data": {
      "image/png": "[encoded data removed]",
      "text/plain": [
       "<matplotlib.figure.Figure at 0x10ce070d0>"
      ]
     },
     "metadata": {},
     "output_type": "display_data"
    }
   ],
   "source": [
    "import numpy as np\n",
    "import matplotlib.pyplot as plt\n",
    "\n",
    "''' Generate samples from a normal distribution centered at (1,1). '''\n",
    "mean1 = (1,1)\n",
    "cov1 = ((1,0), (0,1))\n",
    "cluster1 = np.random.multivariate_normal(mean1, cov1, size=500)\n",
    "\n",
    "''' Generate samples from a normal distribution centered at (20,20). '''\n",
    "mean2 = (20, 20)\n",
    "cov2 = ((1,0), (0,1))\n",
    "cluster2 = np.random.multivariate_normal(mean2, cov2, size=500)\n",
    "\n",
    "''' Concatenate the two sample sets into one dataset. '''\n",
    "all_data = []\n",
    "for x in range(500):\n",
    "    all_data.append(cluster1[x])\n",
    "    all_data.append(cluster2[x])\n",
    "all_data = np.asmatrix(all_data)\n",
    "\n",
    "''' Plot  '''\n",
    "plt.scatter(all_data[:,0], all_data[:,1])\n",
    "plt.show()"
   ]
  },
  {
   "cell_type": "code",
   "execution_count": null,
   "metadata": {
    "collapsed": true
   },
   "outputs": [],
   "source": []
  }
 ],
 "metadata": {
  "kernelspec": {
   "display_name": "Python 2",
   "language": "python",
   "name": "python2"
  },
  "language_info": {
   "codemirror_mode": {
    "name": "ipython",
    "version": 2
   },
   "file_extension": ".py",
   "mimetype": "text/x-python",
   "name": "python",
   "nbconvert_exporter": "python",
   "pygments_lexer": "ipython2",
   "version": "2.7.13"
  }
 },
 "nbformat": 4,
 "nbformat_minor": 2
}
