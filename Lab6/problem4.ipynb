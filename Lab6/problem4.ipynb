{
 "cells": [
  {
   "cell_type": "code",
   "execution_count": 79,
   "metadata": {
    "collapsed": false
   },
   "outputs": [],
   "source": [
    "import numpy as np\n",
    "import random\n",
    "import math\n",
    "import matplotlib.pyplot as plt\n",
    "\n",
    "from numpy import linalg as lin\n",
    "\n",
    "''' Provides an abstraction of a data point as a Euclidean point with (x,y) coordinates. '''\n",
    "class Point:\n",
    "    def __init__(self, x, y):\n",
    "        self.x = x\n",
    "        self.y = y\n",
    "        \n",
    "    def __str__(self):\n",
    "        return '(' + str(self.x) + ',' + str(self.y) + ')'\n",
    "    \n",
    "    def __repr__(self):\n",
    "        return self.__str__()\n",
    "    \n",
    "    ''' Returns the point in the given list that is closest (in terms of Euclidean distance) to this point. '''\n",
    "    def closest_point(self, points):\n",
    "        shortest_dist = float('inf')\n",
    "        closest_point = 0\n",
    "        for point in points:\n",
    "            dist = math.sqrt((point.x - self.x)**2 + (point.y - self.y)**2)\n",
    "            if dist < shortest_dist:\n",
    "                shortest_dist = dist\n",
    "                closest_point = point\n",
    "        return closest_point"
   ]
  },
  {
   "cell_type": "code",
   "execution_count": 80,
   "metadata": {
    "collapsed": true
   },
   "outputs": [],
   "source": [
    "''' Returns the point that is closest to the average of the given list of Point objects. '''\n",
    "def average_point(points):\n",
    "    avg_x = 0.\n",
    "    avg_y = 0.\n",
    "    for point in points:\n",
    "        avg_x += point.x\n",
    "        avg_y += point.y\n",
    "    avg_x /= len(points)\n",
    "    avg_y /= len(points)\n",
    "    \n",
    "    avgPt = Point(avg_x, avg_y)\n",
    "    closestToAvg = avgPt.closest_point(points)\n",
    "    return closestToAvg\n",
    "    #return avgPt"
   ]
  },
  {
   "cell_type": "code",
   "execution_count": 81,
   "metadata": {
    "collapsed": true
   },
   "outputs": [],
   "source": [
    "''' K medioids centroid initialization. '''\n",
    "def init_k_medioids(points, k):\n",
    "    return random.sample(points, k)"
   ]
  },
  {
   "cell_type": "code",
   "execution_count": 82,
   "metadata": {
    "collapsed": true
   },
   "outputs": [],
   "source": [
    "''' Kmeans++ centroid initialization. '''\n",
    "def init_kpp(points, k):\n",
    "    # Choose first centroid uniformly at random\n",
    "    centroids = [random.choice(points)]\n",
    "    \n",
    "    # Choose the remaining k-1 centroids\n",
    "    for i in range(1, k):\n",
    "        # For each point, calculate the squared distance between it and the closest already-chosen centroid\n",
    "        distances = [None for j in range(len(points))]\n",
    "        for j in range(len(points)):\n",
    "            closest_cent = points[j].closest_point(centroids)\n",
    "            distances[j] = (closest_cent.x - points[j].x)**2 + (closest_cent.y - points[j].y)**2\n",
    "\n",
    "        # Generate probability weights proportional to the previously calculated squared distances\n",
    "        weights = [distances[j] / sum(distances) for j in range(len(distances))]\n",
    "\n",
    "        # Choose a new centroid randomly from the remaining points \n",
    "        centroids.append(np.random.choice(points, p=weights))\n",
    "\n",
    "    return centroids"
   ]
  },
  {
   "cell_type": "code",
   "execution_count": 83,
   "metadata": {
    "collapsed": true
   },
   "outputs": [],
   "source": [
    "''' Creates a scatterplot of the given clusters, color-coding by cluster and highlighting centroids in red. '''\n",
    "def plot_clusters(points, clusters):\n",
    "    colors = ['blue', 'green', 'cyan', 'magenta', 'yellow', 'black']\n",
    "    centroids = clusters.keys()\n",
    "    \n",
    "    for point in points:\n",
    "        if point in centroids:\n",
    "            plt.scatter(point.x, point.y, color='red')\n",
    "        else:\n",
    "            for centroid in clusters:\n",
    "                if point in clusters[centroid]:\n",
    "                    colorInd = centroids.index(centroid) % len(colors)\n",
    "            plt.scatter(point.x, point.y, color=colors[colorInd])\n",
    "    plt.show()"
   ]
  },
  {
   "cell_type": "code",
   "execution_count": 84,
   "metadata": {
    "collapsed": true
   },
   "outputs": [],
   "source": [
    "''' Performs the k-means clustering algorithm using the given centroid initialization method. '''\n",
    "def k_means(centroid_init_func, points, k):\n",
    "    # Initialize the centroids by randomly choosing k points from the dataset\n",
    "    centroids = centroid_init_func(points, k)\n",
    "    previous_centroids = []\n",
    "    \n",
    "    # Assign clusters and reassign centroids until they stop changing\n",
    "    while centroids != previous_centroids:\n",
    "        previous_centroids = [cent for cent in centroids]\n",
    "        clusters = {cent: [cent] for cent in centroids}\n",
    "        \n",
    "        # Assign each point to the closest centroid\n",
    "        for point in points:\n",
    "            if point not in centroids:\n",
    "                # Find the centroid closest to the point and add it to its cluster\n",
    "                closest_cent = point.closest_point(centroids)\n",
    "                clusters[closest_cent].append(point)\n",
    "                \n",
    "        # Plot the current clusters\n",
    "        plot_clusters(points, clusters)\n",
    "                \n",
    "        # Keep track of the previous set of centroids\n",
    "        last_centroids = centroids\n",
    "\n",
    "        # Reassign centroids \n",
    "        for centroid in clusters:\n",
    "            centroids.append(average_point(clusters[centroid]))    # Assign the new centroid\n",
    "            centroids.remove(centroid)    # Delete the old centroid\n",
    "    \n",
    "    # Plot the final clusters\n",
    "    #plot_clusters(points, clusters)\n",
    "    \n",
    "    return centroids, clusters"
   ]
  },
  {
   "cell_type": "code",
   "execution_count": 85,
   "metadata": {
    "collapsed": true
   },
   "outputs": [],
   "source": [
    "class SpectralCluster(object):\n",
    "    def __init__(self, data, k, sigma=1):\n",
    "        self.k = min(k, data.shape[0])\n",
    "        self.orig_points = data.as_matrix()\n",
    "        self.centers = None\n",
    "        self.points = None\n",
    "        self._spect_(sigma)\n",
    "        self.clusters = defaultdict(list)\n",
    "      \n",
    "    def _spect_(self, sigma):\n",
    "\n",
    "        num = self.orig_points.shape[0] \n",
    "        pts = self.orig_points\n",
    "        mat = np.zeros((num, num))\n",
    "        for i in range(k):\n",
    "            mat[i, :] = lin.norm(pts[i] - pts, axis=1) ** 2\n",
    "        mat = np.exp(-mat / (2 * np.power(sigma, 2)))\n",
    "        np.fill_diagonal(mat, 0)\n",
    "        \n",
    "        d = np.diag(np.reciprocal(np.power(mat.sum(axis=1), .5)))\n",
    "        lap = d * mat * d\n",
    "        x, y = lin.eig(L)\n",
    "        pair = list(zip(x,y))\n",
    "        pair.sort(key=lambda x: x[0], reverse=True)\n",
    "        largest_eig = [y for x, x in pair[:self.k]]\n",
    "        mat_X = np.array(largest_eig).T\n",
    "        mat_Y = mat_X / (np.sqrt(mat_X**2).sum(axis=1).reshape(-1,1))\n",
    "        self.points = mat_Y\n",
    "        self.centers = pd.DataFrame(mat_Y).sample(self._k).as_matrix()\n",
    "   \n",
    "\n",
    "    def _center_(self, pt):\n",
    "        distance = lin.norm(self.points[pt] - self.centers, axis=1)\n",
    "        minimum = np.argmin(distance)\n",
    "        return minimum\n",
    "    \n",
    "    def _assignments_of_points(self):\n",
    "        c = defaultdict(list)\n",
    "        for pt in self.points:\n",
    "            index = self._center_(pt)\n",
    "            c[index].append(pt)\n",
    "        self.clusters = c\n",
    "        \n",
    "    def centroids(self):\n",
    "        self._assignments_of_points()\n",
    "        new = np.zeros(self.centers.shape)\n",
    "        for index, c in sorted(self.clusters).items():\n",
    "            pts_in_cluster = np.array(c)\n",
    "            average = np.sum(pts_in_cluster, axis = 0)\n",
    "            average = average/pts_in_cluster.shape[0]\n",
    "            new[index] = average\n",
    "        self.centers = new\n",
    "    \n",
    "    def _orig(self):\n",
    "        val = self.clusters.values()\n",
    "        orig = [[self.orig_points[i] for i in c for c in val]]\n",
    "        return orig\n",
    "    def prog(self, n=20):\n",
    "        for i in range(n):\n",
    "            cent = deepcopy(self.centers)\n",
    "            self.centroids()\n",
    "            if i != 0: \n",
    "                if self.centers == cent:\n",
    "                    break\n",
    "        return zip(self.centers, self._orig())"
   ]
  },
  {
   "cell_type": "code",
   "execution_count": 86,
   "metadata": {
    "collapsed": false
   },
   "outputs": [
    {
     "data": {
      "image/png": "[encoded data removed]",
      "text/plain": [
       "<matplotlib.figure.Figure at 0x10d95ea10>"
      ]
     },
     "metadata": {},
     "output_type": "display_data"
    }
   ],
   "source": [
    "''' Generate samples from a normal distribution centered at (1,1). '''\n",
    "mean1 = (1,1)\n",
    "cov1 = ((1,0), (0,1))\n",
    "cluster1 = np.random.multivariate_normal(mean1, cov1, size=500)\n",
    "\n",
    "''' Generate samples from a normal distribution centered at (20,20). '''\n",
    "mean2 = (20, 20)\n",
    "cov2 = ((1,0), (0,1))\n",
    "cluster2 = np.random.multivariate_normal(mean2, cov2, size=500)\n",
    "\n",
    "''' Concatenate the two sample sets into one dataset. '''\n",
    "all_data = []\n",
    "for x in range(500):\n",
    "    all_data.append(cluster1[x])\n",
    "    all_data.append(cluster2[x])\n",
    "all_data = np.asmatrix(all_data)\n",
    "\n",
    "''' Plot the concatenated dataset, pre-clustering. '''\n",
    "plt.scatter(all_data[:,0], all_data[:,1])\n",
    "plt.show()"
   ]
  },
  {
   "cell_type": "code",
   "execution_count": 87,
   "metadata": {
    "collapsed": false
   },
   "outputs": [
    {
     "data": {
      "image/png": "[encoded data removed]",
      "text/plain": [
       "<matplotlib.figure.Figure at 0x10e3abc90>"
      ]
     },
     "metadata": {},
     "output_type": "display_data"
    },
    {
     "data": {
      "image/png": "[encoded data removed]",
      "text/plain": [
       "<matplotlib.figure.Figure at 0x10d94a8d0>"
      ]
     },
     "metadata": {},
     "output_type": "display_data"
    }
   ],
   "source": [
    "''' Convert the data into Point objects. '''\n",
    "all_data = np.array(all_data)\n",
    "points = [Point(point[0], point[1]) for point in all_data]\n",
    "\n",
    "''' Perform K-Means on the data. '''\n",
    "centroids, clusters = k_means(init_kpp, points, 2)"
   ]
  },
  {
   "cell_type": "code",
   "execution_count": null,
   "metadata": {
    "collapsed": true
   },
   "outputs": [],
   "source": []
  }
 ],
 "metadata": {
  "kernelspec": {
   "display_name": "Python 2",
   "language": "python",
   "name": "python2"
  },
  "language_info": {
   "codemirror_mode": {
    "name": "ipython",
    "version": 2
   },
   "file_extension": ".py",
   "mimetype": "text/x-python",
   "name": "python",
   "nbconvert_exporter": "python",
   "pygments_lexer": "ipython2",
   "version": "2.7.13"
  }
 },
 "nbformat": 4,
 "nbformat_minor": 2
}
