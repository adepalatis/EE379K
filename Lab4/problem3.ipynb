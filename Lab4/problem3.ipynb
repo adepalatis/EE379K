{
 "cells": [
  {
   "cell_type": "code",
   "execution_count": 77,
   "metadata": {
    "collapsed": false,
    "scrolled": true
   },
   "outputs": [
    {
     "name": "stdout",
     "output_type": "stream",
     "text": [
      "Ridge Regression Model Error: 0.127337346687\n",
      "Lasso Regression Model Error: 0.12314421091\n"
     ]
    },
    {
     "data": {
      "image/png": "[encoded data removed]",
      "text/plain": [
       "<matplotlib.figure.Figure at 0x118fc0650>"
      ]
     },
     "metadata": {},
     "output_type": "display_data"
    },
    {
     "name": "stderr",
     "output_type": "stream",
     "text": [
      "/Users/anthonydepalatis/anaconda/lib/python2.7/site-packages/ipykernel/__main__.py:81: SettingWithCopyWarning: \n",
      "A value is trying to be set on a copy of a slice from a DataFrame.\n",
      "Try using .loc[row_indexer,col_indexer] = value instead\n",
      "\n",
      "See the caveats in the documentation: http://pandas.pydata.org/pandas-docs/stable/indexing.html#indexing-view-versus-copy\n",
      "/Users/anthonydepalatis/anaconda/lib/python2.7/site-packages/ipykernel/__main__.py:82: SettingWithCopyWarning: \n",
      "A value is trying to be set on a copy of a slice from a DataFrame.\n",
      "Try using .loc[row_indexer,col_indexer] = value instead\n",
      "\n",
      "See the caveats in the documentation: http://pandas.pydata.org/pandas-docs/stable/indexing.html#indexing-view-versus-copy\n"
     ]
    },
    {
     "name": "stdout",
     "output_type": "stream",
     "text": [
      "Ensemble Ridge Regression Model Error: 0.127412121366\n"
     ]
    }
   ],
   "source": [
    "import numpy as np\n",
    "import pandas as pd\n",
    "import sklearn\n",
    "import matplotlib\n",
    "import matplotlib.pyplot as plt\n",
    "#import xgboost as xgb\n",
    "\n",
    "from sklearn.linear_model import Ridge, Lasso, RidgeCV, ElasticNet, LassoCV, LassoLarsCV\n",
    "from sklearn.cross_validation import cross_val_score\n",
    "from scipy.stats import skew\n",
    "\n",
    "''' Helper function for calculating RMSE '''\n",
    "def rmse_cv(model):\n",
    "    rmse= np.sqrt(-cross_val_score(model, X_train, y, scoring=\"neg_mean_squared_error\", cv = 5))\n",
    "    return(rmse)\n",
    "\n",
    "''' Pre-processing '''\n",
    "train = pd.read_csv('/Users/anthonydepalatis/Documents/School/EE379K/Lab4/train.csv')\n",
    "test = pd.read_csv('/Users/anthonydepalatis/Documents/School/EE379K/Lab4/test.csv')\n",
    "all_data = pd.concat((train.loc[:,'MSSubClass':'SaleCondition'],\n",
    "                      test.loc[:,'MSSubClass':'SaleCondition']))\n",
    "\n",
    "# Log transform the classification set\n",
    "train[\"SalePrice\"] = np.log1p(train[\"SalePrice\"])\n",
    "prices = pd.DataFrame(train[\"SalePrice\"])\n",
    "\n",
    "# Log transform skewed numeric features\n",
    "numeric_feats = all_data.dtypes[all_data.dtypes != \"object\"].index\n",
    "skewed_feats = train[numeric_feats].apply(lambda x: skew(x.dropna())) #compute skewness\n",
    "skewed_feats = skewed_feats[skewed_feats > 0.75]\n",
    "skewed_feats = skewed_feats.index\n",
    "all_data[skewed_feats] = np.log1p(all_data[skewed_feats])\n",
    "\n",
    "# Convert categorical features into dummy variables\n",
    "all_data = pd.get_dummies(all_data)\n",
    "\n",
    "# Fill NaN's with the mean of the column\n",
    "all_data = all_data.fillna(all_data.mean())\n",
    "\n",
    "# Create matrices for sklearn\n",
    "X_train = all_data[:train.shape[0]]\n",
    "X_test = all_data[train.shape[0]:]\n",
    "y = train.SalePrice\n",
    "\n",
    "''' Part 2 '''\n",
    "# Train a ridge regression model\n",
    "my_alphas = [0.01, 0.05, 0.1, 0.5, 1, 2, 4, 8, 10, 15, 30, 45, 60]\n",
    "model_ridge = [rmse_cv(Ridge(alpha=alpha, solver='svd', tol=0.001)).mean() for alpha in my_alphas]\n",
    "model_ridge = pd.Series(model_ridge, index = my_alphas)\n",
    "print 'Ridge Regression Model Error: ' + str(model_ridge.min())\n",
    "\n",
    "# Train a lasso regression model\n",
    "my_alphas = [0.1, 0.01, 0.005, 0.001, 0.0005, 0.0001, 0.00005]\n",
    "model_lasso = LassoCV(alphas=my_alphas).fit(X_train, y)\n",
    "lasso_predictions = model_lasso.predict(X_test)\n",
    "print 'Lasso Regression Model Error: ' + str(rmse_cv(model_lasso).mean())\n",
    "\n",
    "''' Part 3 '''\n",
    "# Get the total nonzero coefficients output by the lasso model for each alpha value\n",
    "coefs = []\n",
    "coefs_sums = []\n",
    "for alpha in my_alphas:\n",
    "    model_lasso = Lasso(alpha=alpha).fit(X_train, y)\n",
    "    coef = pd.Series(model_lasso.coef_, index=X_train.columns)\n",
    "    coefs.append(coef)\n",
    "    coefs_sums.append(sum(coef == 0))\n",
    "\n",
    "# Plot the number of nonzero coefficients vs. alpha\n",
    "l_0 = pd.Series(coefs_sums, index = my_alphas)\n",
    "l_0.plot(title=\"l0 vs. Alpha\")\n",
    "plt.xlabel(\"alpha\")\n",
    "plt.ylabel(\"# nonzero coefs\")\n",
    "plt.show()\n",
    "\n",
    "''' Part 4 '''\n",
    "# Calculate the predictions for the Ridge model with the least error\n",
    "test_ridge = Ridge(alpha=10, solver='svd', tol=0.001).fit(X_train, y)\n",
    "ridge_predictions = test_ridge.predict(X_test)\n",
    "\n",
    "# Append the models' predictions to the training set and replace NaN's\n",
    "X_train['Ridge Predictions'] = pd.Series(ridge_predictions, index=X_test.index)\n",
    "X_train['Lasso Predictions'] = pd.Series(lasso_predictions, index=X_test.index)\n",
    "X_train = X_train.fillna(X_train.mean())\n",
    "\n",
    "# Train the ensemble model\n",
    "my_alphas = [0.01, 0.05, 0.1, 0.5, 1, 2, 4, 8, 10, 15, 30, 45, 60]\n",
    "ensemble = [rmse_cv(Ridge(alpha=alpha, solver='svd', tol=0.001)).mean() for alpha in my_alphas]\n",
    "ensemble = pd.Series(ensemble, index = my_alphas)\n",
    "print 'Ensemble Ridge Regression Model Error: ' + str(ensemble.min())"
   ]
  },
  {
   "cell_type": "code",
   "execution_count": null,
   "metadata": {
    "collapsed": true
   },
   "outputs": [],
   "source": []
  }
 ],
 "metadata": {
  "kernelspec": {
   "display_name": "Python 2",
   "language": "python",
   "name": "python2"
  },
  "language_info": {
   "codemirror_mode": {
    "name": "ipython",
    "version": 2
   },
   "file_extension": ".py",
   "mimetype": "text/x-python",
   "name": "python",
   "nbconvert_exporter": "python",
   "pygments_lexer": "ipython2",
   "version": "2.7.13"
  }
 },
 "nbformat": 4,
 "nbformat_minor": 2
}
