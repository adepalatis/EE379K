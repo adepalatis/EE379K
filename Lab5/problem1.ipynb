{
 "cells": [
  {
   "cell_type": "code",
   "execution_count": 77,
   "metadata": {
    "collapsed": false
   },
   "outputs": [
    {
     "name": "stdout",
     "output_type": "stream",
     "text": [
      "[-0.00607334  0.02371139 -0.01713591]\n"
     ]
    }
   ],
   "source": [
    "import numpy as np\n",
    "import pandas as pd\n",
    "import matplotlib.pyplot as plt\n",
    "\n",
    "from sklearn import linear_model\n",
    "from sklearn.preprocessing import OneHotEncoder\n",
    "\n",
    "pd.options.mode.chained_assignment = None \n",
    "\n",
    "data = pd.read_csv('/Users/anthonydepalatis/Documents/School/EE379K/Lab5/Data/carseats.csv')\n",
    "\n",
    "# Convert binary categorical features to numerical ones.\n",
    "for k in range(len(data['Urban'])):\n",
    "    if data['Urban'][k] == 'Yes':\n",
    "        data['Urban'][k] = 1\n",
    "    elif data['Urban'][k] == 'No':\n",
    "        data['Urban'][k] = 0\n",
    "for k in range(len(data['US'])):\n",
    "    if data['US'][k] == \"Yes\":\n",
    "        data['US'][k] = 1\n",
    "    elif data['US'][k] == 'No':\n",
    "        data['US'][k] = 0\n",
    "features = pd.DataFrame(np.matrix([data['Price'], data['Urban'], data['US']]).reshape(400, 3))\n",
    "\n",
    "clf = linear_model.LinearRegression()\n",
    "clf.fit(features, data['Sales'])\n",
    "print clf.coef_"
   ]
  },
  {
   "cell_type": "code",
   "execution_count": null,
   "metadata": {
    "collapsed": true
   },
   "outputs": [],
   "source": []
  }
 ],
 "metadata": {
  "kernelspec": {
   "display_name": "Python 2",
   "language": "python",
   "name": "python2"
  },
  "language_info": {
   "codemirror_mode": {
    "name": "ipython",
    "version": 2
   },
   "file_extension": ".py",
   "mimetype": "text/x-python",
   "name": "python",
   "nbconvert_exporter": "python",
   "pygments_lexer": "ipython2",
   "version": "2.7.13"
  }
 },
 "nbformat": 4,
 "nbformat_minor": 2
}
