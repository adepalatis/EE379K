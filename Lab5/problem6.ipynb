{
 "cells": [
  {
   "cell_type": "code",
   "execution_count": 7,
   "metadata": {
    "collapsed": true
   },
   "outputs": [],
   "source": [
    "def mean_squared_error(pred, true):\n",
    "    total_squared_error = sum((pred - true)**2)\n",
    "    return total_squared_error / len(pred)"
   ]
  },
  {
   "cell_type": "code",
   "execution_count": 8,
   "metadata": {
    "collapsed": true
   },
   "outputs": [],
   "source": [
    "def poly(x, p):\n",
    "    x = np.array(x)\n",
    "    X = np.transpose(np.vstack((x**k for k in range(p+1))))\n",
    "    return np.linalg.qr(X)[0][:,1:]"
   ]
  },
  {
   "cell_type": "code",
   "execution_count": 64,
   "metadata": {
    "collapsed": false,
    "scrolled": true
   },
   "outputs": [
    {
     "data": {
      "image/png": "[encoded data removed]",
      "text/plain": [
       "<matplotlib.figure.Figure at 0x11bf40c50>"
      ]
     },
     "metadata": {},
     "output_type": "display_data"
    },
    {
     "name": "stdout",
     "output_type": "stream",
     "text": [
      "Error with degree-1 polynomial: [[ 2712.71581957]]\n",
      "Error with degree-2 polynomial: [[ 182050.20655988]]\n",
      "Error with degree-3 polynomial: [[ 12144160.59967541]]\n",
      "Error with degree-4 polynomial: [[  9.55137253e+08]]\n",
      "\n",
      "\n",
      "Error with degree-1 polynomial: [[ 16214660.07227357]]\n",
      "Error with degree-2 polynomial: [[  8.66576373e+10]]\n",
      "Error with degree-3 polynomial: [[  1.61773224e+15]]\n",
      "Error with degree-4 polynomial: [[  6.85023463e+19]]\n",
      "                   0\n",
      "count       4.000000\n",
      "mean  -173131.266541\n",
      "std    401401.341095\n",
      "min   -771550.150990\n",
      "25%   -201267.882454\n",
      "50%     -4787.015529\n",
      "75%     23349.600383\n",
      "max     88599.115883\n"
     ]
    }
   ],
   "source": [
    "import numpy as np\n",
    "import pandas as pd\n",
    "import matplotlib.pyplot as plt\n",
    "\n",
    "from sklearn.model_selection import LeaveOneOut\n",
    "from sklearn.linear_model import LinearRegression\n",
    "\n",
    "''' Part a '''\n",
    "y = np.random.normal(size=1000)\n",
    "x = np.random.normal(size=1000)\n",
    "y = x - 2*x**2 + np.random.normal(size=1000)\n",
    "\n",
    "''' Part b '''\n",
    "plt.scatter(x, y)\n",
    "plt.show()\n",
    "\n",
    "''' Part c '''\n",
    "np.random.seed(42)\n",
    "xy_frame = pd.DataFrame(np.asmatrix((x, y)).reshape(1000, 2), columns=['X', 'Y'])\n",
    "\n",
    "loo = LeaveOneOut()\n",
    "for k in range(1, 5):    \n",
    "    X = pd.DataFrame(xy_frame['X'])\n",
    "    for j in range(2, k + 1):\n",
    "        X['X^' + str(j)] = xy_frame['X']**j\n",
    "\n",
    "    error = 0\n",
    "    for train_index, test_index in loo.split(xy_frame['X']):  \n",
    "        error = 0\n",
    "        train_data = xy_frame.drop(test_index).drop('Y', axis=1)\n",
    "        train_labels = xy_frame.drop(test_index).drop('X', axis=1)\n",
    "        test_data = xy_frame.iloc[test_index].drop('Y', axis=1)\n",
    "        test_labels = xy_frame.iloc[test_index].drop('X', axis=1) \n",
    "    \n",
    "        beta = np.asmatrix(X.drop(test_index)).transpose() * np.matrix(train_labels)\n",
    "        y_estimate = beta.reshape(1, k) * np.asmatrix(X.iloc[test_index]).reshape(k, 1)\n",
    "        error = error + (y_estimate - test_labels)**2\n",
    "        \n",
    "    print 'Error with degree-' + str(k) + ' polynomial: ' + str(error / 1000)\n",
    "print \"\\n\"\n",
    "    \n",
    "''' Part d '''\n",
    "np.random.seed(30)\n",
    "\n",
    "loo = LeaveOneOut()\n",
    "for k in range(1, 5):    \n",
    "    X = pd.DataFrame(xy_frame['X'])\n",
    "    for j in range(2, k + 1):\n",
    "        X['X^' + str(j)] = xy_frame['X']**j\n",
    "\n",
    "    error = 0\n",
    "    for train_index, test_index in loo.split(xy_frame['X']):    \n",
    "        train_data = xy_frame.drop(test_index).drop('Y', axis=1)\n",
    "        train_labels = xy_frame.drop(test_index).drop('X', axis=1)\n",
    "        test_data = xy_frame.iloc[test_index].drop('Y', axis=1)\n",
    "        test_labels = xy_frame.iloc[test_index].drop('X', axis=1) \n",
    "    \n",
    "        beta = np.asmatrix(X.drop(test_index)).transpose() * np.matrix(train_labels)\n",
    "        y_estimate = beta.reshape(1, k) * np.asmatrix(X.iloc[test_index]).reshape(k, 1)\n",
    "        error = error + (y_estimate - test_labels)**2\n",
    "        \n",
    "    print 'Error with degree-' + str(k) + ' polynomial: ' + str(error / 1000)\n",
    "    \n",
    "''' Part f '''\n",
    "print pd.DataFrame(beta).describe()"
   ]
  },
  {
   "cell_type": "code",
   "execution_count": null,
   "metadata": {
    "collapsed": true
   },
   "outputs": [],
   "source": []
  }
 ],
 "metadata": {
  "kernelspec": {
   "display_name": "Python 2",
   "language": "python",
   "name": "python2"
  },
  "language_info": {
   "codemirror_mode": {
    "name": "ipython",
    "version": 2
   },
   "file_extension": ".py",
   "mimetype": "text/x-python",
   "name": "python",
   "nbconvert_exporter": "python",
   "pygments_lexer": "ipython2",
   "version": "2.7.13"
  }
 },
 "nbformat": 4,
 "nbformat_minor": 2
}
