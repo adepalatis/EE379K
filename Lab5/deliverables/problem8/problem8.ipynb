{
 "cells": [
  {
   "cell_type": "code",
   "execution_count": 120,
   "metadata": {
    "collapsed": false
   },
   "outputs": [
    {
     "name": "stdout",
     "output_type": "stream",
     "text": [
      "Lasso score: 0.473486403448\n",
      "\n",
      "Ridge score: 0.453813155377\n",
      "\n",
      "PCR score (1 components): 0.45919580706\n",
      "PCR score (2 components): 0.396326136743\n",
      "PCR score (3 components): 0.399295472784\n",
      "PCR score (4 components): 0.399907825387\n",
      "PCR score (5 components): 0.413375026782\n",
      "PCR score (6 components): 0.418992830481\n",
      "PCR score (7 components): 0.443451163793\n",
      "PCR score (8 components): 0.453709100546\n",
      "PCR score (9 components): 0.460451390705\n",
      "PCR score (10 components): 0.453283370737\n",
      "PCR score (11 components): 0.455853127185\n",
      "PCR score (12 components): 0.458447790115\n",
      "PCR score (13 components): 0.426165918575\n",
      "\n",
      "\n",
      "Lasso score (10 components): 0.47109398332\n",
      "\n"
     ]
    }
   ],
   "source": [
    "import numpy as np\n",
    "import pandas as pd\n",
    "import math\n",
    "import matplotlib.pyplot as plt\n",
    "\n",
    "from sklearn.datasets import load_iris\n",
    "from sklearn.linear_model import Ridge, Lasso, LinearRegression\n",
    "from sklearn.model_selection import train_test_split\n",
    "from sklearn.feature_selection import SelectKBest, chi2\n",
    "from sklearn.decomposition import PCA\n",
    "\n",
    "data = pd.read_csv('/Users/anthonydepalatis/Documents/School/EE379K/Lab5/Data/Boston.csv')\n",
    "\n",
    "# Split data into training set and testing set\n",
    "train, test = train_test_split(data, test_size=0.4, train_size=0.6)\n",
    "train_labels = train['crim']\n",
    "test_labels = test['crim']\n",
    "train = train.drop('crim', axis=1)\n",
    "test = test.drop('crim', axis=1)\n",
    "\n",
    "# Plot each individual feature against crime rate to get an idea of their pair-wise relationships\n",
    "for predictor in data:\n",
    "    if predictor != 'crim':\n",
    "        plt.scatter(data[predictor], data['crim'])\n",
    "        plt.xlabel(predictor)\n",
    "        plt.ylabel('Crime')\n",
    "        #plt.show()\n",
    "\n",
    "''' Part a '''\n",
    "# Best Subset Selection\n",
    "\n",
    "# Lasso Regression\n",
    "lasso = Lasso()\n",
    "lasso.fit(train, train_labels)\n",
    "print 'Lasso score: ' + str(lasso.score(test, test_labels)) + \"\\n\"\n",
    "\n",
    "# Ridge Regression\n",
    "ridge = Ridge()\n",
    "ridge.fit(train, train_labels)\n",
    "print 'Ridge score: ' + str(ridge.score(test, test_labels)) + \"\\n\"\n",
    "\n",
    "# PCR\n",
    "for k in range(1, len(train.columns) + 1):\n",
    "    pca = PCA(n_components=k)\n",
    "    reduced_train = pd.DataFrame(pca.fit_transform(train))\n",
    "    reduced_test = pd.DataFrame(pca.transform(test))\n",
    "\n",
    "    linreg = LinearRegression().fit(reduced_train, train_labels)\n",
    "    print 'PCR score (' + str(k) + ' components): ' + str(linreg.score(reduced_test, test_labels))\n",
    "print \"\\n\"\n",
    "\n",
    "''' Part b '''\n",
    "# Lasso regression with 10 components\n",
    "pca = PCA(n_components=10)\n",
    "reduced_train = pd.DataFrame(pca.fit_transform(train))\n",
    "reduced_test = pd.DataFrame(pca.transform(test))\n",
    "\n",
    "lasso = Lasso()\n",
    "lasso.fit(reduced_train, train_labels)\n",
    "print 'Lasso score (10 components): ' + str(lasso.score(reduced_test, test_labels)) +\"\\n\""
   ]
  },
  {
   "cell_type": "code",
   "execution_count": null,
   "metadata": {
    "collapsed": true
   },
   "outputs": [],
   "source": []
  }
 ],
 "metadata": {
  "kernelspec": {
   "display_name": "Python 2",
   "language": "python",
   "name": "python2"
  },
  "language_info": {
   "codemirror_mode": {
    "name": "ipython",
    "version": 2
   },
   "file_extension": ".py",
   "mimetype": "text/x-python",
   "name": "python",
   "nbconvert_exporter": "python",
   "pygments_lexer": "ipython2",
   "version": "2.7.13"
  }
 },
 "nbformat": 4,
 "nbformat_minor": 2
}
