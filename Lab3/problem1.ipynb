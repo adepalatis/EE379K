{
 "cells": [
  {
   "cell_type": "code",
   "execution_count": 44,
   "metadata": {
    "collapsed": false
   },
   "outputs": [
    {
     "name": "stdout",
     "output_type": "stream",
     "text": [
      "New vector inside S: [ 0.14376971  0.70545992  0.43130913  0.99299934]\n",
      "New vector not in S: [ 0.6162928   0.53545173  0.16063416  0.08290747]\n",
      "Dim(S): 2\n",
      "Orthonormal basis for S: [[-0.24011927 -0.05990306 -0.35992538 -0.89955994]\n",
      " [ 0.8581727  -0.29094143  0.27628983 -0.32024463]]\n",
      "V0: [ 0.14376971  0.70545992  0.43130913  0.99299934]\n",
      "V1: [ 0.23898415  0.5656649   0.71695246  1.0436332 ]\n",
      "X = Beta1*V0 + Beta2*V1\n",
      "Beta: (0.085049764085389987, 0.14137571616883202)\n"
     ]
    }
   ],
   "source": [
    "import sympy\n",
    "import numpy as np\n",
    "from scipy.linalg import orth\n",
    "from sympy.matrices import Matrix \n",
    "\n",
    "# Projects vector 'b' onto vector 'a'\n",
    "def proj(b, a):\n",
    "    return (np.dot(a, b) / np.linalg.norm(a) ** 2) * a\n",
    "\n",
    "v1 = [1,2,3,4]\n",
    "v2 = [0,1,0,1]\n",
    "v3 = [1,4,3,6]\n",
    "v4 = [2,11,6,15]\n",
    "A = Matrix([v1, v2, v3, v4])\n",
    "S = np.array(A.rref()[0]).astype(np.float)     # S is a basis for {v1, v2, v3, v4}\n",
    "\n",
    "# (1)\n",
    "# Generate a random 1x4 vector\n",
    "random_vector = np.random.rand(1, 4)[0]\n",
    "\n",
    "# Generate an orthoganal basis for S, then project 'random_vector' onto each of them\n",
    "orth_comp = S[0] - proj(S[0], S[1])    # the component of S[0] orthogonal to S[1]\n",
    "vec_in_space = proj(random_vector, orth_comp) + proj(random_vector, S[1])\n",
    "#test = Matrix([Matrix(S), vec_in_space])\n",
    "#print np.array(test)\n",
    "#print np.array(test.rref()[0])\n",
    "print 'New vector inside S: ' + str(vec_in_space)\n",
    "\n",
    "# Create a vector not in span(A)\n",
    "vec_not_in_space = np.random.rand(1, 4)[0]\n",
    "#test = Matrix([Matrix(S), vec_not_in_space])\n",
    "#print np.array(test)\n",
    "#print np.array(test.rref()[0])\n",
    "print 'New vector not in S: ' + str(vec_not_in_space)\n",
    "\n",
    "# (2)\n",
    "# Calculate dim(S), i.e. the number of vectors in its basis\n",
    "dim = len(A.columnspace())\n",
    "print 'Dim(S): ' + str(dim)\n",
    "\n",
    "# (3)\n",
    "asArray = np.array(A).astype(np.float)\n",
    "thing = orth(asArray)\n",
    "\n",
    "vec1 = []\n",
    "vec2 = []\n",
    "for i in range(len(thing)):\n",
    "    vec1.append(thing[i][0])\n",
    "    vec2.append(thing[i][1])\n",
    "    \n",
    "vec1 = np.array(vec1)\n",
    "vec1 = np.array(vec1).astype(np.float)\n",
    "ortho_basis = np.array((vec1, vec2))\n",
    "print 'Orthonormal basis for S: ' + str(ortho_basis)\n",
    "\n",
    "# (4)\n",
    "z_star = [1,0,0,0]\n",
    "\n",
    "random_vector = np.random.rand(1, 4)[0]\n",
    "v0 = vec_in_space\n",
    "v1 = proj(random_vector, orth_comp) + proj(random_vector, S[1])\n",
    "\n",
    "norm_v0 = np.linalg.norm(v0) \n",
    "norm_v1 = np.linalg.norm(v1) \n",
    "\n",
    "b0 = (1 / (norm_v0**2)) * (np.dot(v0.transpose(), z_star))\n",
    "b1 = (1 / (norm_v0**2)) * (np.dot(v1.transpose(), z_star))\n",
    "print \"V0: \" + str(v0)\n",
    "print \"V1: \" + str(v1)\n",
    "print \"X = Beta1*V0 + Beta2*V1\"\n",
    "print \"Beta: \" + str((b0, b1))"
   ]
  },
  {
   "cell_type": "code",
   "execution_count": null,
   "metadata": {
    "collapsed": true
   },
   "outputs": [],
   "source": []
  }
 ],
 "metadata": {
  "anaconda-cloud": {},
  "kernelspec": {
   "display_name": "Python 2",
   "language": "python",
   "name": "python2"
  },
  "language_info": {
   "codemirror_mode": {
    "name": "ipython",
    "version": 2
   },
   "file_extension": ".py",
   "mimetype": "text/x-python",
   "name": "python",
   "nbconvert_exporter": "python",
   "pygments_lexer": "ipython2",
   "version": "2.7.13"
  }
 },
 "nbformat": 4,
 "nbformat_minor": 1
}
