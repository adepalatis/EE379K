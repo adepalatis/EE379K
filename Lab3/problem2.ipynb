{
 "cells": [
  {
   "cell_type": "code",
   "execution_count": 1,
   "metadata": {
    "collapsed": false
   },
   "outputs": [
    {
     "name": "stdout",
     "output_type": "stream",
     "text": [
      "[ 1.19947203  0.70014347  0.30123457]\n",
      "1.19947203304\n",
      "[ 0.79382445  0.58917932 -0.15069996]\n"
     ]
    },
    {
     "name": "stderr",
     "output_type": "stream",
     "text": [
      "C:\\Users\\Tony\\Anaconda2\\lib\\site-packages\\ipykernel\\__main__.py:92: VisibleDeprecationWarning: using a non-integer number instead of an integer will result in an error in the future\n",
      "C:\\Users\\Tony\\Anaconda2\\lib\\site-packages\\ipykernel\\__main__.py:93: VisibleDeprecationWarning: using a non-integer number instead of an integer will result in an error in the future\n"
     ]
    },
    {
     "data": {
      "text/plain": [
       "[<matplotlib.lines.Line2D at 0xa4b1668>]"
      ]
     },
     "execution_count": 1,
     "metadata": {},
     "output_type": "execute_result"
    }
   ],
   "source": [
    "# -*- coding: utf-8 -*-\n",
    "\"\"\"\n",
    "Created on Thu Feb  2 10:06:44 2017\n",
    "\n",
    "@author: shammakabir\n",
    "\"\"\"\n",
    "\n",
    "import numpy as np \n",
    "from mpl_toolkits.mplot3d import Axes3D\n",
    "import matplotlib.pyplot as plt\n",
    "import pandas as pd\n",
    "import operator\n",
    "\n",
    "\n",
    "\n",
    "def find_cov(x,y,n):\n",
    "    x_mean = np.mean(x)\n",
    "    y_mean = np.mean(y)\n",
    "    num = 0\n",
    "    for i in range (0, n):\n",
    "        mult = (x[i]-x_mean)*(y[i]-y_mean)\n",
    "        num = num + mult            \n",
    "    cov = num/(n-1)\n",
    "    return(cov)\n",
    "\n",
    "################################part one######################################\n",
    "mean = [0,0,0]\n",
    "cov = [[0.5,0,0],[0,0.5,0],[0,0,0.7]]\n",
    "\n",
    "label_1 = np.random.multivariate_normal(mean,cov,20)\n",
    "label_1df = pd.DataFrame(label_1)\n",
    "x_1 = label_1df.iloc[:,0]\n",
    "y_1 = label_1df.iloc[:,1]\n",
    "z_1 = label_1df.iloc[:,2]\n",
    "\n",
    "mean = [1,1,1]\n",
    "cov = [[0.5,0,0],[0,0.5,0],[0,0,0.01]]\n",
    "\n",
    "label_2 = np.random.multivariate_normal(mean,cov,20)\n",
    "\n",
    "label_2df = pd.DataFrame(label_2)\n",
    "\n",
    "x_2 = label_2df.iloc[:,0]\n",
    "y_2 = label_2df.iloc[:,1]\n",
    "z_2 = label_2df.iloc[:,2]\n",
    "\n",
    "\n",
    "fig = plt.figure()\n",
    "ax = fig.add_subplot(111, projection='3d')\n",
    "\n",
    "ax.scatter(x_1, y_1, z_1, c = 'b', label = 'label_1')\n",
    "ax.scatter(x_2, y_2, z_2, c = 'r', label = 'label_2')\n",
    "ax.legend(loc='upper left')\n",
    "\n",
    "ax.set_xlabel('X Label')\n",
    "ax.set_ylabel('Y Label')\n",
    "ax.set_zlabel('Z Label')\n",
    "\n",
    "\n",
    "################################part three####################################    \n",
    "    \n",
    "con = np.concatenate((label_1, label_2))\n",
    "con = pd.DataFrame(con)\n",
    "\n",
    "#print(con)\n",
    "\n",
    "ds_1 = con.iloc[:,0]\n",
    "ds_2 = con.iloc[:,1]\n",
    "ds_3 = con.iloc[:,2]\n",
    "\n",
    "covar = [[0,0,0],[0,0,0],[0,0,0]]\n",
    "covar[0][0] = find_cov(ds_1, ds_1, 40)\n",
    "covar[0][1] = find_cov(ds_1, ds_2, 40)\n",
    "covar[0][2] = find_cov(ds_1, ds_3, 40)\n",
    "covar[1][0] = covar[0][1]\n",
    "covar[1][1] = find_cov(ds_2, ds_2, 40)\n",
    "covar[1][2] = find_cov(ds_2, ds_3, 40)\n",
    "covar[2][0] = covar[0][2]\n",
    "covar[2][1] = covar[1][2]\n",
    "covar[2][2] = find_cov(ds_3, ds_3, 40)\n",
    "\n",
    "#print(covar)\n",
    "\n",
    "################################part four####################################\n",
    "\n",
    "values, vectors = np.linalg.eig(covar)\n",
    "temp = values\n",
    "print(values)\n",
    "index, value = max(enumerate(values), key=operator.itemgetter(1))\n",
    "print(value)\n",
    "for i in values:\n",
    "    if values[i] == value:\n",
    "        values[i] = -9999\n",
    "index2, value = max(enumerate(values), key=operator.itemgetter(1))\n",
    "print(vectors[index])\n",
    "fig2 = plt.figure()\n",
    "ax2 = fig2.add_subplot(111)\n",
    "ax2.plot(vectors[index])\n",
    "ax2.plot(vectors[index2])"
   ]
  },
  {
   "cell_type": "code",
   "execution_count": null,
   "metadata": {
    "collapsed": true
   },
   "outputs": [],
   "source": []
  }
 ],
 "metadata": {
  "kernelspec": {
   "display_name": "Python [conda root]",
   "language": "python",
   "name": "conda-root-py"
  },
  "language_info": {
   "codemirror_mode": {
    "name": "ipython",
    "version": 2
   },
   "file_extension": ".py",
   "mimetype": "text/x-python",
   "name": "python",
   "nbconvert_exporter": "python",
   "pygments_lexer": "ipython2",
   "version": "2.7.12"
  }
 },
 "nbformat": 4,
 "nbformat_minor": 1
}
