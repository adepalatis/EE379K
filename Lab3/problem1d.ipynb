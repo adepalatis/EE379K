{
 "cells": [
  {
   "cell_type": "code",
   "execution_count": 3,
   "metadata": {
    "collapsed": false
   },
   "outputs": [
    {
     "name": "stdout",
     "output_type": "stream",
     "text": [
      "[[ 0.82859096]\n",
      " [ 0.0145625 ]\n",
      " [ 0.10239605]\n",
      " [ 0.45608714]]\n",
      "Optimization terminated successfully.\n",
      "         Current function value: 0.000055\n",
      "         Iterations: 109\n",
      "         Function evaluations: 185\n",
      "[ 0.95298782  0.68323228  0.08562351  0.61200011]\n"
     ]
    }
   ],
   "source": [
    "import numpy as np\n",
    "from scipy import optimize\n",
    "from sympy.matrices import Matrix\n",
    "\n",
    "def min_func(x, z, guess):\n",
    "    #print np.linalg.norm(x - z)\n",
    "    return np.linalg.norm(x - z)\n",
    "\n",
    "def main():\n",
    "    z_star = [1,0,0,0]\n",
    "    v1 = [1,2,3,4]\n",
    "    v2 = [0,1,0,1]\n",
    "    v3 = [1,4,3,6]\n",
    "    v4 = [2,11,6,15]\n",
    "    A = Matrix([v1, v2, v3, v4])\n",
    "    S = A.columnspace()\n",
    "    print np.random.rand(4, 1)\n",
    "    \n",
    "    res = optimize.fmin(min_func, np.random.rand(4, 1), args=(np.random.random((1, 4))[0], z_star))\n",
    "    print res\n",
    "\n",
    "    \n",
    "if __name__ == \"__main__\":\n",
    "    main()"
   ]
  },
  {
   "cell_type": "code",
   "execution_count": null,
   "metadata": {
    "collapsed": true
   },
   "outputs": [],
   "source": []
  }
 ],
 "metadata": {
  "kernelspec": {
   "display_name": "Python 2",
   "language": "python",
   "name": "python2"
  },
  "language_info": {
   "codemirror_mode": {
    "name": "ipython",
    "version": 2
   },
   "file_extension": ".py",
   "mimetype": "text/x-python",
   "name": "python",
   "nbconvert_exporter": "python",
   "pygments_lexer": "ipython2",
   "version": "2.7.13"
  }
 },
 "nbformat": 4,
 "nbformat_minor": 2
}
