{
 "cells": [
  {
   "cell_type": "code",
   "execution_count": 27,
   "metadata": {
    "collapsed": false
   },
   "outputs": [
    {
     "name": "stdout",
     "output_type": "stream",
     "text": [
      "New vector inside S: [ 0.06112527  0.69323767  0.18337581  0.8154882 ]\n",
      "New vector not in S: [ 0.45250702  0.12763047  0.29141176  0.45397373]\n",
      "Dim(S): 2\n",
      "Orthonormal basis for S: [[-0.24011927 -0.05990306 -0.35992538 -0.89955994]\n",
      " [ 0.8581727  -0.29094143  0.27628983 -0.32024463]]\n"
     ]
    }
   ],
   "source": [
    "import sympy\n",
    "import numpy as np\n",
    "from scipy.linalg import orth\n",
    "from sympy.matrices import Matrix \n",
    "\n",
    "# Projects vector 'b' onto vector 'a'\n",
    "def proj(b, a):\n",
    "    return (np.dot(a, b) / np.linalg.norm(a) ** 2) * a\n",
    "\n",
    "v1 = [1,2,3,4]\n",
    "v2 = [0,1,0,1]\n",
    "v3 = [1,4,3,6]\n",
    "v4 = [2,11,6,15]\n",
    "A = Matrix([v1, v2, v3, v4])\n",
    "S = np.array(A.rref()[0]).astype(np.float)     # S is a basis for {v1, v2, v3, v4}\n",
    "\n",
    "# (1)\n",
    "# Generate a random 1x4 vector\n",
    "random_vector = np.random.rand(1, 4)[0]\n",
    "\n",
    "# Generate an orthoganal basis for S, then project 'random_vector' onto each of them\n",
    "orth_comp = S[0] - proj(S[0], S[1])    # the component of S[0] orthogonal to S[1]\n",
    "vec_in_space = proj(random_vector, orth_comp) + proj(random_vector, S[1])\n",
    "#test = Matrix([Matrix(S), vec_in_space])\n",
    "#print np.array(test)\n",
    "#print np.array(test.rref()[0])\n",
    "print 'New vector inside S: ' + str(vec_in_space)\n",
    "\n",
    "# Create a vector not in span(A)\n",
    "vec_not_in_space = np.random.rand(1, 4)[0]\n",
    "#test = Matrix([Matrix(S), vec_not_in_space])\n",
    "#print np.array(test)\n",
    "#print np.array(test.rref()[0])\n",
    "print 'New vector not in S: ' + str(vec_not_in_space)\n",
    "\n",
    "# (2)\n",
    "# Calculate dim(S), i.e. the number of vectors in its basis\n",
    "dim = len(A.columnspace())\n",
    "print 'Dim(S): ' + str(dim)\n",
    "\n",
    "# (3)\n",
    "asArray = np.array(A).astype(np.float)\n",
    "thing = orth(asArray)\n",
    "\n",
    "vec1 = []\n",
    "vec2 = []\n",
    "for i in range(len(thing)):\n",
    "    vec1.append(thing[i][0])\n",
    "    vec2.append(thing[i][1])\n",
    "    \n",
    "vec1 = np.array(vec1)\n",
    "vec1 = np.array(vec1).astype(np.float)\n",
    "ortho_basis = np.array((vec1, vec2))\n",
    "print 'Orthonormal basis for S: ' + str(ortho_basis)"
   ]
  },
  {
   "cell_type": "code",
   "execution_count": null,
   "metadata": {
    "collapsed": true
   },
   "outputs": [],
   "source": []
  }
 ],
 "metadata": {
  "anaconda-cloud": {},
  "kernelspec": {
   "display_name": "Python 2",
   "language": "python",
   "name": "python2"
  },
  "language_info": {
   "codemirror_mode": {
    "name": "ipython",
    "version": 2
   },
   "file_extension": ".py",
   "mimetype": "text/x-python",
   "name": "python",
   "nbconvert_exporter": "python",
   "pygments_lexer": "ipython2",
   "version": "2.7.13"
  }
 },
 "nbformat": 4,
 "nbformat_minor": 1
}
